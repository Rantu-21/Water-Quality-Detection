{
 "cells": [
  {
   "cell_type": "markdown",
   "metadata": {
    "id": "55djRaWPRfvQ"
   },
   "source": [
    "## ***Importing necessary libaries***"
   ]
  },
  {
   "cell_type": "code",
   "execution_count": 27,
   "metadata": {
    "id": "BUeHHxToMj8p"
   },
   "outputs": [],
   "source": [
    "import pandas as pd\n",
    "import numpy as np\n",
    "import matplotlib.pyplot as plt"
   ]
  },
  {
   "cell_type": "markdown",
   "metadata": {
    "id": "M7senRb4RwPM"
   },
   "source": [
    "## ***Accessing the Dataset***\n"
   ]
  },
  {
   "cell_type": "code",
   "execution_count": 28,
   "metadata": {
    "colab": {
     "base_uri": "https://localhost:8080/"
    },
    "id": "QZhzQH1R7-Kb",
    "outputId": "cca0ef13-d6a5-4f46-89fc-fab14fb00235"
   },
   "outputs": [
    {
     "data": {
      "text/html": [
       "<div>\n",
       "<style scoped>\n",
       "    .dataframe tbody tr th:only-of-type {\n",
       "        vertical-align: middle;\n",
       "    }\n",
       "\n",
       "    .dataframe tbody tr th {\n",
       "        vertical-align: top;\n",
       "    }\n",
       "\n",
       "    .dataframe thead th {\n",
       "        text-align: right;\n",
       "    }\n",
       "</style>\n",
       "<table border=\"1\" class=\"dataframe\">\n",
       "  <thead>\n",
       "    <tr style=\"text-align: right;\">\n",
       "      <th></th>\n",
       "      <th>aluminium</th>\n",
       "      <th>ammonia</th>\n",
       "      <th>arsenic</th>\n",
       "      <th>barium</th>\n",
       "      <th>cadmium</th>\n",
       "      <th>chloramine</th>\n",
       "      <th>chromium</th>\n",
       "      <th>copper</th>\n",
       "      <th>flouride</th>\n",
       "      <th>bacteria</th>\n",
       "      <th>...</th>\n",
       "      <th>nitrites</th>\n",
       "      <th>magnesium</th>\n",
       "      <th>mercury</th>\n",
       "      <th>perchlorate</th>\n",
       "      <th>phosphate</th>\n",
       "      <th>radium</th>\n",
       "      <th>selenium</th>\n",
       "      <th>silver</th>\n",
       "      <th>uranium</th>\n",
       "      <th>is_safe</th>\n",
       "    </tr>\n",
       "  </thead>\n",
       "  <tbody>\n",
       "    <tr>\n",
       "      <th>0</th>\n",
       "      <td>1.65</td>\n",
       "      <td>9.08</td>\n",
       "      <td>0.04</td>\n",
       "      <td>2.85</td>\n",
       "      <td>0.007</td>\n",
       "      <td>0.35</td>\n",
       "      <td>0.83</td>\n",
       "      <td>0.17</td>\n",
       "      <td>0.05</td>\n",
       "      <td>0.20</td>\n",
       "      <td>...</td>\n",
       "      <td>1.13</td>\n",
       "      <td>0.0002</td>\n",
       "      <td>0.007</td>\n",
       "      <td>37.75</td>\n",
       "      <td>NaN</td>\n",
       "      <td>6.78</td>\n",
       "      <td>0.08</td>\n",
       "      <td>0.34</td>\n",
       "      <td>0.02</td>\n",
       "      <td>Yes</td>\n",
       "    </tr>\n",
       "    <tr>\n",
       "      <th>1</th>\n",
       "      <td>2.32</td>\n",
       "      <td>21.16</td>\n",
       "      <td>0.01</td>\n",
       "      <td>3.31</td>\n",
       "      <td>0.002</td>\n",
       "      <td>5.28</td>\n",
       "      <td>0.68</td>\n",
       "      <td>0.66</td>\n",
       "      <td>0.90</td>\n",
       "      <td>0.65</td>\n",
       "      <td>...</td>\n",
       "      <td>1.93</td>\n",
       "      <td>0.0002</td>\n",
       "      <td>0.003</td>\n",
       "      <td>32.26</td>\n",
       "      <td>0.05</td>\n",
       "      <td>3.21</td>\n",
       "      <td>0.08</td>\n",
       "      <td>0.27</td>\n",
       "      <td>0.05</td>\n",
       "      <td>Yes</td>\n",
       "    </tr>\n",
       "    <tr>\n",
       "      <th>2</th>\n",
       "      <td>1.01</td>\n",
       "      <td>14.02</td>\n",
       "      <td>0.04</td>\n",
       "      <td>0.58</td>\n",
       "      <td>0.008</td>\n",
       "      <td>4.24</td>\n",
       "      <td>0.53</td>\n",
       "      <td>0.02</td>\n",
       "      <td>0.99</td>\n",
       "      <td>0.05</td>\n",
       "      <td>...</td>\n",
       "      <td>1.11</td>\n",
       "      <td>0.0003</td>\n",
       "      <td>0.006</td>\n",
       "      <td>50.28</td>\n",
       "      <td>NaN</td>\n",
       "      <td>7.07</td>\n",
       "      <td>0.07</td>\n",
       "      <td>0.44</td>\n",
       "      <td>0.01</td>\n",
       "      <td>No</td>\n",
       "    </tr>\n",
       "    <tr>\n",
       "      <th>3</th>\n",
       "      <td>1.36</td>\n",
       "      <td>11.33</td>\n",
       "      <td>0.04</td>\n",
       "      <td>2.96</td>\n",
       "      <td>0.001</td>\n",
       "      <td>7.23</td>\n",
       "      <td>0.03</td>\n",
       "      <td>1.66</td>\n",
       "      <td>1.08</td>\n",
       "      <td>0.71</td>\n",
       "      <td>...</td>\n",
       "      <td>1.29</td>\n",
       "      <td>0.0004</td>\n",
       "      <td>0.004</td>\n",
       "      <td>9.12</td>\n",
       "      <td>NaN</td>\n",
       "      <td>1.72</td>\n",
       "      <td>0.02</td>\n",
       "      <td>0.45</td>\n",
       "      <td>0.05</td>\n",
       "      <td>Yes</td>\n",
       "    </tr>\n",
       "    <tr>\n",
       "      <th>4</th>\n",
       "      <td>0.92</td>\n",
       "      <td>24.33</td>\n",
       "      <td>0.03</td>\n",
       "      <td>0.20</td>\n",
       "      <td>0.006</td>\n",
       "      <td>2.67</td>\n",
       "      <td>0.69</td>\n",
       "      <td>0.57</td>\n",
       "      <td>0.61</td>\n",
       "      <td>0.13</td>\n",
       "      <td>...</td>\n",
       "      <td>1.11</td>\n",
       "      <td>0.0004</td>\n",
       "      <td>0.003</td>\n",
       "      <td>16.90</td>\n",
       "      <td>NaN</td>\n",
       "      <td>2.41</td>\n",
       "      <td>0.02</td>\n",
       "      <td>0.06</td>\n",
       "      <td>0.02</td>\n",
       "      <td>Yes</td>\n",
       "    </tr>\n",
       "  </tbody>\n",
       "</table>\n",
       "<p>5 rows × 23 columns</p>\n",
       "</div>"
      ],
      "text/plain": [
       "   aluminium  ammonia  arsenic  barium  cadmium  chloramine  chromium  copper  \\\n",
       "0       1.65     9.08     0.04    2.85    0.007        0.35      0.83    0.17   \n",
       "1       2.32    21.16     0.01    3.31    0.002        5.28      0.68    0.66   \n",
       "2       1.01    14.02     0.04    0.58    0.008        4.24      0.53    0.02   \n",
       "3       1.36    11.33     0.04    2.96    0.001        7.23      0.03    1.66   \n",
       "4       0.92    24.33     0.03    0.20    0.006        2.67      0.69    0.57   \n",
       "\n",
       "   flouride  bacteria  ...  nitrites  magnesium  mercury  perchlorate  \\\n",
       "0      0.05      0.20  ...      1.13     0.0002    0.007        37.75   \n",
       "1      0.90      0.65  ...      1.93     0.0002    0.003        32.26   \n",
       "2      0.99      0.05  ...      1.11     0.0003    0.006        50.28   \n",
       "3      1.08      0.71  ...      1.29     0.0004    0.004         9.12   \n",
       "4      0.61      0.13  ...      1.11     0.0004    0.003        16.90   \n",
       "\n",
       "   phosphate  radium  selenium  silver  uranium  is_safe  \n",
       "0        NaN    6.78      0.08    0.34     0.02      Yes  \n",
       "1       0.05    3.21      0.08    0.27     0.05      Yes  \n",
       "2        NaN    7.07      0.07    0.44     0.01       No  \n",
       "3        NaN    1.72      0.02    0.45     0.05      Yes  \n",
       "4        NaN    2.41      0.02    0.06     0.02      Yes  \n",
       "\n",
       "[5 rows x 23 columns]"
      ]
     },
     "execution_count": 28,
     "metadata": {},
     "output_type": "execute_result"
    }
   ],
   "source": [
    "water_quality = pd.read_csv('Dataset.csv')\n",
    "water_quality.head()\n"
   ]
  },
  {
   "cell_type": "markdown",
   "metadata": {
    "id": "EPRjklyqSC83"
   },
   "source": [
    "# Dataset Description"
   ]
  },
  {
   "cell_type": "code",
   "execution_count": 29,
   "metadata": {
    "id": "LKW2crIXoxqm"
   },
   "outputs": [
    {
     "data": {
      "text/plain": [
       "(7999, 23)"
      ]
     },
     "execution_count": 29,
     "metadata": {},
     "output_type": "execute_result"
    }
   ],
   "source": [
    "water_quality.shape"
   ]
  },
  {
   "cell_type": "code",
   "execution_count": 30,
   "metadata": {
    "id": "SydxJQKpoxuw",
    "scrolled": true
   },
   "outputs": [
    {
     "name": "stdout",
     "output_type": "stream",
     "text": [
      "Index(['aluminium', 'ammonia', 'arsenic', 'barium', 'cadmium', 'chloramine',\n",
      "       'chromium', 'copper', 'flouride', 'bacteria', 'viruses', 'lead',\n",
      "       'nitrates', 'nitrites', 'magnesium', 'mercury', 'perchlorate',\n",
      "       'phosphate', 'radium', 'selenium', 'silver', 'uranium', 'is_safe'],\n",
      "      dtype='object')\n"
     ]
    }
   ],
   "source": [
    "print(water_quality.columns)"
   ]
  },
  {
   "cell_type": "code",
   "execution_count": 31,
   "metadata": {
    "id": "3k_RPOeqox1W"
   },
   "outputs": [
    {
     "data": {
      "text/plain": [
       "23"
      ]
     },
     "execution_count": 31,
     "metadata": {},
     "output_type": "execute_result"
    }
   ],
   "source": [
    "len(water_quality.columns)"
   ]
  },
  {
   "cell_type": "code",
   "execution_count": 32,
   "metadata": {
    "id": "ZqQ0Zq5zdDjc"
   },
   "outputs": [
    {
     "data": {
      "text/html": [
       "<div>\n",
       "<style scoped>\n",
       "    .dataframe tbody tr th:only-of-type {\n",
       "        vertical-align: middle;\n",
       "    }\n",
       "\n",
       "    .dataframe tbody tr th {\n",
       "        vertical-align: top;\n",
       "    }\n",
       "\n",
       "    .dataframe thead th {\n",
       "        text-align: right;\n",
       "    }\n",
       "</style>\n",
       "<table border=\"1\" class=\"dataframe\">\n",
       "  <thead>\n",
       "    <tr style=\"text-align: right;\">\n",
       "      <th></th>\n",
       "      <th>count</th>\n",
       "      <th>mean</th>\n",
       "      <th>std</th>\n",
       "      <th>min</th>\n",
       "      <th>25%</th>\n",
       "      <th>50%</th>\n",
       "      <th>75%</th>\n",
       "      <th>max</th>\n",
       "    </tr>\n",
       "  </thead>\n",
       "  <tbody>\n",
       "    <tr>\n",
       "      <th>aluminium</th>\n",
       "      <td>7999.0</td>\n",
       "      <td>0.666158</td>\n",
       "      <td>1.265145</td>\n",
       "      <td>0.0000</td>\n",
       "      <td>0.0400</td>\n",
       "      <td>0.0700</td>\n",
       "      <td>0.2800</td>\n",
       "      <td>5.050</td>\n",
       "    </tr>\n",
       "    <tr>\n",
       "      <th>ammonia</th>\n",
       "      <td>7999.0</td>\n",
       "      <td>14.272857</td>\n",
       "      <td>8.881569</td>\n",
       "      <td>-0.0800</td>\n",
       "      <td>6.5600</td>\n",
       "      <td>14.1300</td>\n",
       "      <td>22.1300</td>\n",
       "      <td>29.840</td>\n",
       "    </tr>\n",
       "    <tr>\n",
       "      <th>arsenic</th>\n",
       "      <td>7999.0</td>\n",
       "      <td>0.161445</td>\n",
       "      <td>0.252590</td>\n",
       "      <td>0.0000</td>\n",
       "      <td>0.0300</td>\n",
       "      <td>0.0500</td>\n",
       "      <td>0.1000</td>\n",
       "      <td>1.050</td>\n",
       "    </tr>\n",
       "    <tr>\n",
       "      <th>barium</th>\n",
       "      <td>7999.0</td>\n",
       "      <td>1.567715</td>\n",
       "      <td>1.216091</td>\n",
       "      <td>0.0000</td>\n",
       "      <td>0.5600</td>\n",
       "      <td>1.1900</td>\n",
       "      <td>2.4800</td>\n",
       "      <td>4.940</td>\n",
       "    </tr>\n",
       "    <tr>\n",
       "      <th>cadmium</th>\n",
       "      <td>7999.0</td>\n",
       "      <td>0.042806</td>\n",
       "      <td>0.036049</td>\n",
       "      <td>0.0000</td>\n",
       "      <td>0.0080</td>\n",
       "      <td>0.0400</td>\n",
       "      <td>0.0700</td>\n",
       "      <td>0.130</td>\n",
       "    </tr>\n",
       "    <tr>\n",
       "      <th>chloramine</th>\n",
       "      <td>7999.0</td>\n",
       "      <td>2.176831</td>\n",
       "      <td>2.567027</td>\n",
       "      <td>0.0000</td>\n",
       "      <td>0.1000</td>\n",
       "      <td>0.5300</td>\n",
       "      <td>4.2400</td>\n",
       "      <td>8.680</td>\n",
       "    </tr>\n",
       "    <tr>\n",
       "      <th>chromium</th>\n",
       "      <td>7999.0</td>\n",
       "      <td>0.247226</td>\n",
       "      <td>0.270640</td>\n",
       "      <td>0.0000</td>\n",
       "      <td>0.0500</td>\n",
       "      <td>0.0900</td>\n",
       "      <td>0.4400</td>\n",
       "      <td>0.900</td>\n",
       "    </tr>\n",
       "    <tr>\n",
       "      <th>copper</th>\n",
       "      <td>7999.0</td>\n",
       "      <td>0.805857</td>\n",
       "      <td>0.653539</td>\n",
       "      <td>0.0000</td>\n",
       "      <td>0.0900</td>\n",
       "      <td>0.7500</td>\n",
       "      <td>1.3900</td>\n",
       "      <td>2.000</td>\n",
       "    </tr>\n",
       "    <tr>\n",
       "      <th>flouride</th>\n",
       "      <td>7999.0</td>\n",
       "      <td>0.771565</td>\n",
       "      <td>0.435373</td>\n",
       "      <td>0.0000</td>\n",
       "      <td>0.4050</td>\n",
       "      <td>0.7700</td>\n",
       "      <td>1.1600</td>\n",
       "      <td>1.500</td>\n",
       "    </tr>\n",
       "    <tr>\n",
       "      <th>bacteria</th>\n",
       "      <td>7999.0</td>\n",
       "      <td>0.319665</td>\n",
       "      <td>0.329485</td>\n",
       "      <td>0.0000</td>\n",
       "      <td>0.0000</td>\n",
       "      <td>0.2200</td>\n",
       "      <td>0.6100</td>\n",
       "      <td>1.000</td>\n",
       "    </tr>\n",
       "    <tr>\n",
       "      <th>viruses</th>\n",
       "      <td>7999.0</td>\n",
       "      <td>0.328583</td>\n",
       "      <td>0.378096</td>\n",
       "      <td>0.0000</td>\n",
       "      <td>0.0020</td>\n",
       "      <td>0.0080</td>\n",
       "      <td>0.7000</td>\n",
       "      <td>1.000</td>\n",
       "    </tr>\n",
       "    <tr>\n",
       "      <th>lead</th>\n",
       "      <td>7999.0</td>\n",
       "      <td>0.099450</td>\n",
       "      <td>0.058172</td>\n",
       "      <td>0.0000</td>\n",
       "      <td>0.0480</td>\n",
       "      <td>0.1020</td>\n",
       "      <td>0.1510</td>\n",
       "      <td>0.200</td>\n",
       "    </tr>\n",
       "    <tr>\n",
       "      <th>nitrates</th>\n",
       "      <td>7999.0</td>\n",
       "      <td>9.818822</td>\n",
       "      <td>5.541331</td>\n",
       "      <td>0.0000</td>\n",
       "      <td>5.0000</td>\n",
       "      <td>9.9300</td>\n",
       "      <td>14.6100</td>\n",
       "      <td>19.830</td>\n",
       "    </tr>\n",
       "    <tr>\n",
       "      <th>nitrites</th>\n",
       "      <td>7999.0</td>\n",
       "      <td>1.329961</td>\n",
       "      <td>0.573219</td>\n",
       "      <td>0.0000</td>\n",
       "      <td>1.0000</td>\n",
       "      <td>1.4200</td>\n",
       "      <td>1.7600</td>\n",
       "      <td>2.930</td>\n",
       "    </tr>\n",
       "    <tr>\n",
       "      <th>magnesium</th>\n",
       "      <td>6415.0</td>\n",
       "      <td>0.008094</td>\n",
       "      <td>0.078883</td>\n",
       "      <td>0.0002</td>\n",
       "      <td>0.0002</td>\n",
       "      <td>0.0004</td>\n",
       "      <td>0.0005</td>\n",
       "      <td>0.864</td>\n",
       "    </tr>\n",
       "    <tr>\n",
       "      <th>mercury</th>\n",
       "      <td>7999.0</td>\n",
       "      <td>0.005194</td>\n",
       "      <td>0.002967</td>\n",
       "      <td>0.0000</td>\n",
       "      <td>0.0030</td>\n",
       "      <td>0.0050</td>\n",
       "      <td>0.0080</td>\n",
       "      <td>0.010</td>\n",
       "    </tr>\n",
       "    <tr>\n",
       "      <th>perchlorate</th>\n",
       "      <td>7999.0</td>\n",
       "      <td>16.460299</td>\n",
       "      <td>17.687474</td>\n",
       "      <td>0.0000</td>\n",
       "      <td>2.1700</td>\n",
       "      <td>7.7400</td>\n",
       "      <td>29.4800</td>\n",
       "      <td>60.010</td>\n",
       "    </tr>\n",
       "    <tr>\n",
       "      <th>phosphate</th>\n",
       "      <td>358.0</td>\n",
       "      <td>0.489268</td>\n",
       "      <td>0.106282</td>\n",
       "      <td>0.0050</td>\n",
       "      <td>0.5000</td>\n",
       "      <td>0.5000</td>\n",
       "      <td>0.5000</td>\n",
       "      <td>1.670</td>\n",
       "    </tr>\n",
       "    <tr>\n",
       "      <th>radium</th>\n",
       "      <td>7999.0</td>\n",
       "      <td>2.920548</td>\n",
       "      <td>2.323009</td>\n",
       "      <td>0.0000</td>\n",
       "      <td>0.8200</td>\n",
       "      <td>2.4100</td>\n",
       "      <td>4.6700</td>\n",
       "      <td>7.990</td>\n",
       "    </tr>\n",
       "    <tr>\n",
       "      <th>selenium</th>\n",
       "      <td>7999.0</td>\n",
       "      <td>0.049685</td>\n",
       "      <td>0.028770</td>\n",
       "      <td>0.0000</td>\n",
       "      <td>0.0200</td>\n",
       "      <td>0.0500</td>\n",
       "      <td>0.0700</td>\n",
       "      <td>0.100</td>\n",
       "    </tr>\n",
       "    <tr>\n",
       "      <th>silver</th>\n",
       "      <td>7999.0</td>\n",
       "      <td>0.147781</td>\n",
       "      <td>0.143551</td>\n",
       "      <td>0.0000</td>\n",
       "      <td>0.0400</td>\n",
       "      <td>0.0800</td>\n",
       "      <td>0.2400</td>\n",
       "      <td>0.500</td>\n",
       "    </tr>\n",
       "    <tr>\n",
       "      <th>uranium</th>\n",
       "      <td>7999.0</td>\n",
       "      <td>0.044673</td>\n",
       "      <td>0.026904</td>\n",
       "      <td>0.0000</td>\n",
       "      <td>0.0200</td>\n",
       "      <td>0.0500</td>\n",
       "      <td>0.0700</td>\n",
       "      <td>0.090</td>\n",
       "    </tr>\n",
       "  </tbody>\n",
       "</table>\n",
       "</div>"
      ],
      "text/plain": [
       "              count       mean        std     min     25%      50%      75%  \\\n",
       "aluminium    7999.0   0.666158   1.265145  0.0000  0.0400   0.0700   0.2800   \n",
       "ammonia      7999.0  14.272857   8.881569 -0.0800  6.5600  14.1300  22.1300   \n",
       "arsenic      7999.0   0.161445   0.252590  0.0000  0.0300   0.0500   0.1000   \n",
       "barium       7999.0   1.567715   1.216091  0.0000  0.5600   1.1900   2.4800   \n",
       "cadmium      7999.0   0.042806   0.036049  0.0000  0.0080   0.0400   0.0700   \n",
       "chloramine   7999.0   2.176831   2.567027  0.0000  0.1000   0.5300   4.2400   \n",
       "chromium     7999.0   0.247226   0.270640  0.0000  0.0500   0.0900   0.4400   \n",
       "copper       7999.0   0.805857   0.653539  0.0000  0.0900   0.7500   1.3900   \n",
       "flouride     7999.0   0.771565   0.435373  0.0000  0.4050   0.7700   1.1600   \n",
       "bacteria     7999.0   0.319665   0.329485  0.0000  0.0000   0.2200   0.6100   \n",
       "viruses      7999.0   0.328583   0.378096  0.0000  0.0020   0.0080   0.7000   \n",
       "lead         7999.0   0.099450   0.058172  0.0000  0.0480   0.1020   0.1510   \n",
       "nitrates     7999.0   9.818822   5.541331  0.0000  5.0000   9.9300  14.6100   \n",
       "nitrites     7999.0   1.329961   0.573219  0.0000  1.0000   1.4200   1.7600   \n",
       "magnesium    6415.0   0.008094   0.078883  0.0002  0.0002   0.0004   0.0005   \n",
       "mercury      7999.0   0.005194   0.002967  0.0000  0.0030   0.0050   0.0080   \n",
       "perchlorate  7999.0  16.460299  17.687474  0.0000  2.1700   7.7400  29.4800   \n",
       "phosphate     358.0   0.489268   0.106282  0.0050  0.5000   0.5000   0.5000   \n",
       "radium       7999.0   2.920548   2.323009  0.0000  0.8200   2.4100   4.6700   \n",
       "selenium     7999.0   0.049685   0.028770  0.0000  0.0200   0.0500   0.0700   \n",
       "silver       7999.0   0.147781   0.143551  0.0000  0.0400   0.0800   0.2400   \n",
       "uranium      7999.0   0.044673   0.026904  0.0000  0.0200   0.0500   0.0700   \n",
       "\n",
       "                max  \n",
       "aluminium     5.050  \n",
       "ammonia      29.840  \n",
       "arsenic       1.050  \n",
       "barium        4.940  \n",
       "cadmium       0.130  \n",
       "chloramine    8.680  \n",
       "chromium      0.900  \n",
       "copper        2.000  \n",
       "flouride      1.500  \n",
       "bacteria      1.000  \n",
       "viruses       1.000  \n",
       "lead          0.200  \n",
       "nitrates     19.830  \n",
       "nitrites      2.930  \n",
       "magnesium     0.864  \n",
       "mercury       0.010  \n",
       "perchlorate  60.010  \n",
       "phosphate     1.670  \n",
       "radium        7.990  \n",
       "selenium      0.100  \n",
       "silver        0.500  \n",
       "uranium       0.090  "
      ]
     },
     "metadata": {},
     "output_type": "display_data"
    }
   ],
   "source": [
    "display(water_quality.describe().T)"
   ]
  },
  {
   "cell_type": "markdown",
   "metadata": {
    "id": "ko2IDD5Bml36"
   },
   "source": [
    "# Correlation of all the features"
   ]
  },
  {
   "cell_type": "code",
   "execution_count": 33,
   "metadata": {
    "id": "nstWpKdGmqs7"
   },
   "outputs": [
    {
     "data": {
      "text/html": [
       "<div>\n",
       "<style scoped>\n",
       "    .dataframe tbody tr th:only-of-type {\n",
       "        vertical-align: middle;\n",
       "    }\n",
       "\n",
       "    .dataframe tbody tr th {\n",
       "        vertical-align: top;\n",
       "    }\n",
       "\n",
       "    .dataframe thead th {\n",
       "        text-align: right;\n",
       "    }\n",
       "</style>\n",
       "<table border=\"1\" class=\"dataframe\">\n",
       "  <thead>\n",
       "    <tr style=\"text-align: right;\">\n",
       "      <th></th>\n",
       "      <th>aluminium</th>\n",
       "      <th>ammonia</th>\n",
       "      <th>arsenic</th>\n",
       "      <th>barium</th>\n",
       "      <th>cadmium</th>\n",
       "      <th>chloramine</th>\n",
       "      <th>chromium</th>\n",
       "      <th>copper</th>\n",
       "      <th>flouride</th>\n",
       "      <th>bacteria</th>\n",
       "      <th>...</th>\n",
       "      <th>nitrates</th>\n",
       "      <th>nitrites</th>\n",
       "      <th>magnesium</th>\n",
       "      <th>mercury</th>\n",
       "      <th>perchlorate</th>\n",
       "      <th>phosphate</th>\n",
       "      <th>radium</th>\n",
       "      <th>selenium</th>\n",
       "      <th>silver</th>\n",
       "      <th>uranium</th>\n",
       "    </tr>\n",
       "  </thead>\n",
       "  <tbody>\n",
       "    <tr>\n",
       "      <th>aluminium</th>\n",
       "      <td>1.000000</td>\n",
       "      <td>0.067635</td>\n",
       "      <td>0.225773</td>\n",
       "      <td>0.294145</td>\n",
       "      <td>-0.099911</td>\n",
       "      <td>0.369309</td>\n",
       "      <td>0.353218</td>\n",
       "      <td>0.168612</td>\n",
       "      <td>-0.009784</td>\n",
       "      <td>-0.078238</td>\n",
       "      <td>...</td>\n",
       "      <td>-0.003810</td>\n",
       "      <td>0.237307</td>\n",
       "      <td>-0.052522</td>\n",
       "      <td>-0.003306</td>\n",
       "      <td>0.363069</td>\n",
       "      <td>0.183482</td>\n",
       "      <td>0.243217</td>\n",
       "      <td>-0.003672</td>\n",
       "      <td>0.334993</td>\n",
       "      <td>0.014711</td>\n",
       "    </tr>\n",
       "    <tr>\n",
       "      <th>ammonia</th>\n",
       "      <td>0.067635</td>\n",
       "      <td>1.000000</td>\n",
       "      <td>0.046962</td>\n",
       "      <td>0.070342</td>\n",
       "      <td>-0.006538</td>\n",
       "      <td>0.105187</td>\n",
       "      <td>0.125149</td>\n",
       "      <td>0.016149</td>\n",
       "      <td>-0.027908</td>\n",
       "      <td>0.063800</td>\n",
       "      <td>...</td>\n",
       "      <td>0.006603</td>\n",
       "      <td>-0.063595</td>\n",
       "      <td>-0.022711</td>\n",
       "      <td>0.020300</td>\n",
       "      <td>0.091325</td>\n",
       "      <td>0.064993</td>\n",
       "      <td>0.050058</td>\n",
       "      <td>0.029804</td>\n",
       "      <td>0.075846</td>\n",
       "      <td>0.014581</td>\n",
       "    </tr>\n",
       "    <tr>\n",
       "      <th>arsenic</th>\n",
       "      <td>0.225773</td>\n",
       "      <td>0.046962</td>\n",
       "      <td>1.000000</td>\n",
       "      <td>0.362945</td>\n",
       "      <td>0.334682</td>\n",
       "      <td>0.356559</td>\n",
       "      <td>0.312475</td>\n",
       "      <td>-0.036444</td>\n",
       "      <td>0.003792</td>\n",
       "      <td>0.035688</td>\n",
       "      <td>...</td>\n",
       "      <td>0.027554</td>\n",
       "      <td>0.305005</td>\n",
       "      <td>0.095879</td>\n",
       "      <td>-0.015404</td>\n",
       "      <td>0.332279</td>\n",
       "      <td>0.104600</td>\n",
       "      <td>0.218204</td>\n",
       "      <td>-0.007009</td>\n",
       "      <td>0.307837</td>\n",
       "      <td>0.001455</td>\n",
       "    </tr>\n",
       "    <tr>\n",
       "      <th>barium</th>\n",
       "      <td>0.294145</td>\n",
       "      <td>0.070342</td>\n",
       "      <td>0.362945</td>\n",
       "      <td>1.000000</td>\n",
       "      <td>-0.037803</td>\n",
       "      <td>0.446928</td>\n",
       "      <td>0.415972</td>\n",
       "      <td>0.065426</td>\n",
       "      <td>-0.018548</td>\n",
       "      <td>0.101259</td>\n",
       "      <td>...</td>\n",
       "      <td>-0.011331</td>\n",
       "      <td>0.312711</td>\n",
       "      <td>0.031659</td>\n",
       "      <td>0.005987</td>\n",
       "      <td>0.462234</td>\n",
       "      <td>0.062682</td>\n",
       "      <td>0.286569</td>\n",
       "      <td>0.035242</td>\n",
       "      <td>0.431606</td>\n",
       "      <td>-0.002440</td>\n",
       "    </tr>\n",
       "    <tr>\n",
       "      <th>cadmium</th>\n",
       "      <td>-0.099911</td>\n",
       "      <td>-0.006538</td>\n",
       "      <td>0.334682</td>\n",
       "      <td>-0.037803</td>\n",
       "      <td>1.000000</td>\n",
       "      <td>-0.144370</td>\n",
       "      <td>-0.157766</td>\n",
       "      <td>-0.109024</td>\n",
       "      <td>0.004880</td>\n",
       "      <td>-0.092431</td>\n",
       "      <td>...</td>\n",
       "      <td>0.020194</td>\n",
       "      <td>-0.015682</td>\n",
       "      <td>0.052395</td>\n",
       "      <td>-0.016174</td>\n",
       "      <td>-0.149344</td>\n",
       "      <td>-0.011590</td>\n",
       "      <td>-0.099259</td>\n",
       "      <td>0.010145</td>\n",
       "      <td>-0.155408</td>\n",
       "      <td>-0.005633</td>\n",
       "    </tr>\n",
       "    <tr>\n",
       "      <th>chloramine</th>\n",
       "      <td>0.369309</td>\n",
       "      <td>0.105187</td>\n",
       "      <td>0.356559</td>\n",
       "      <td>0.446928</td>\n",
       "      <td>-0.144370</td>\n",
       "      <td>1.000000</td>\n",
       "      <td>0.555938</td>\n",
       "      <td>0.119059</td>\n",
       "      <td>0.004400</td>\n",
       "      <td>0.154510</td>\n",
       "      <td>...</td>\n",
       "      <td>-0.001551</td>\n",
       "      <td>0.379685</td>\n",
       "      <td>0.036348</td>\n",
       "      <td>-0.021472</td>\n",
       "      <td>0.588769</td>\n",
       "      <td>0.076550</td>\n",
       "      <td>0.388806</td>\n",
       "      <td>0.011399</td>\n",
       "      <td>0.522447</td>\n",
       "      <td>-0.007658</td>\n",
       "    </tr>\n",
       "    <tr>\n",
       "      <th>chromium</th>\n",
       "      <td>0.353218</td>\n",
       "      <td>0.125149</td>\n",
       "      <td>0.312475</td>\n",
       "      <td>0.415972</td>\n",
       "      <td>-0.157766</td>\n",
       "      <td>0.555938</td>\n",
       "      <td>1.000000</td>\n",
       "      <td>0.113043</td>\n",
       "      <td>-0.002284</td>\n",
       "      <td>0.142041</td>\n",
       "      <td>...</td>\n",
       "      <td>-0.012793</td>\n",
       "      <td>0.335708</td>\n",
       "      <td>0.029325</td>\n",
       "      <td>-0.022787</td>\n",
       "      <td>0.524532</td>\n",
       "      <td>0.136813</td>\n",
       "      <td>0.315271</td>\n",
       "      <td>0.030539</td>\n",
       "      <td>0.510768</td>\n",
       "      <td>-0.005526</td>\n",
       "    </tr>\n",
       "    <tr>\n",
       "      <th>copper</th>\n",
       "      <td>0.168612</td>\n",
       "      <td>0.016149</td>\n",
       "      <td>-0.036444</td>\n",
       "      <td>0.065426</td>\n",
       "      <td>-0.109024</td>\n",
       "      <td>0.119059</td>\n",
       "      <td>0.113043</td>\n",
       "      <td>1.000000</td>\n",
       "      <td>0.011683</td>\n",
       "      <td>0.149110</td>\n",
       "      <td>...</td>\n",
       "      <td>0.002332</td>\n",
       "      <td>0.162093</td>\n",
       "      <td>-0.091212</td>\n",
       "      <td>0.017626</td>\n",
       "      <td>0.104564</td>\n",
       "      <td>0.025468</td>\n",
       "      <td>0.026215</td>\n",
       "      <td>-0.003267</td>\n",
       "      <td>0.089333</td>\n",
       "      <td>0.006978</td>\n",
       "    </tr>\n",
       "    <tr>\n",
       "      <th>flouride</th>\n",
       "      <td>-0.009784</td>\n",
       "      <td>-0.027908</td>\n",
       "      <td>0.003792</td>\n",
       "      <td>-0.018548</td>\n",
       "      <td>0.004880</td>\n",
       "      <td>0.004400</td>\n",
       "      <td>-0.002284</td>\n",
       "      <td>0.011683</td>\n",
       "      <td>1.000000</td>\n",
       "      <td>0.014134</td>\n",
       "      <td>...</td>\n",
       "      <td>-0.008140</td>\n",
       "      <td>-0.016669</td>\n",
       "      <td>0.029192</td>\n",
       "      <td>-0.004400</td>\n",
       "      <td>-0.016191</td>\n",
       "      <td>0.066909</td>\n",
       "      <td>0.007688</td>\n",
       "      <td>0.022629</td>\n",
       "      <td>0.014554</td>\n",
       "      <td>0.016792</td>\n",
       "    </tr>\n",
       "    <tr>\n",
       "      <th>bacteria</th>\n",
       "      <td>-0.078238</td>\n",
       "      <td>0.063800</td>\n",
       "      <td>0.035688</td>\n",
       "      <td>0.101259</td>\n",
       "      <td>-0.092431</td>\n",
       "      <td>0.154510</td>\n",
       "      <td>0.142041</td>\n",
       "      <td>0.149110</td>\n",
       "      <td>0.014134</td>\n",
       "      <td>1.000000</td>\n",
       "      <td>...</td>\n",
       "      <td>-0.033920</td>\n",
       "      <td>0.246252</td>\n",
       "      <td>0.018695</td>\n",
       "      <td>-0.004471</td>\n",
       "      <td>0.147652</td>\n",
       "      <td>0.012641</td>\n",
       "      <td>0.099298</td>\n",
       "      <td>-0.006971</td>\n",
       "      <td>0.148225</td>\n",
       "      <td>0.044839</td>\n",
       "    </tr>\n",
       "    <tr>\n",
       "      <th>viruses</th>\n",
       "      <td>-0.070863</td>\n",
       "      <td>0.106313</td>\n",
       "      <td>0.011703</td>\n",
       "      <td>-0.002276</td>\n",
       "      <td>0.021183</td>\n",
       "      <td>0.003687</td>\n",
       "      <td>0.002430</td>\n",
       "      <td>0.006292</td>\n",
       "      <td>0.018418</td>\n",
       "      <td>0.618480</td>\n",
       "      <td>...</td>\n",
       "      <td>-0.044544</td>\n",
       "      <td>-0.091517</td>\n",
       "      <td>0.007426</td>\n",
       "      <td>0.011416</td>\n",
       "      <td>0.003208</td>\n",
       "      <td>0.037473</td>\n",
       "      <td>-0.020112</td>\n",
       "      <td>-0.035047</td>\n",
       "      <td>0.011861</td>\n",
       "      <td>0.058434</td>\n",
       "    </tr>\n",
       "    <tr>\n",
       "      <th>lead</th>\n",
       "      <td>0.020792</td>\n",
       "      <td>-0.037558</td>\n",
       "      <td>-0.087756</td>\n",
       "      <td>-0.042888</td>\n",
       "      <td>-0.034959</td>\n",
       "      <td>-0.030479</td>\n",
       "      <td>-0.050501</td>\n",
       "      <td>0.121765</td>\n",
       "      <td>0.011905</td>\n",
       "      <td>-0.027525</td>\n",
       "      <td>...</td>\n",
       "      <td>0.034978</td>\n",
       "      <td>-0.052405</td>\n",
       "      <td>-0.060391</td>\n",
       "      <td>-0.007832</td>\n",
       "      <td>-0.027709</td>\n",
       "      <td>-0.027474</td>\n",
       "      <td>-0.048741</td>\n",
       "      <td>0.031888</td>\n",
       "      <td>-0.057351</td>\n",
       "      <td>-0.009151</td>\n",
       "    </tr>\n",
       "    <tr>\n",
       "      <th>nitrates</th>\n",
       "      <td>-0.003810</td>\n",
       "      <td>0.006603</td>\n",
       "      <td>0.027554</td>\n",
       "      <td>-0.011331</td>\n",
       "      <td>0.020194</td>\n",
       "      <td>-0.001551</td>\n",
       "      <td>-0.012793</td>\n",
       "      <td>0.002332</td>\n",
       "      <td>-0.008140</td>\n",
       "      <td>-0.033920</td>\n",
       "      <td>...</td>\n",
       "      <td>1.000000</td>\n",
       "      <td>0.016936</td>\n",
       "      <td>-0.017931</td>\n",
       "      <td>-0.020458</td>\n",
       "      <td>-0.014020</td>\n",
       "      <td>-0.058778</td>\n",
       "      <td>-0.021410</td>\n",
       "      <td>0.043109</td>\n",
       "      <td>0.005218</td>\n",
       "      <td>0.000824</td>\n",
       "    </tr>\n",
       "    <tr>\n",
       "      <th>nitrites</th>\n",
       "      <td>0.237307</td>\n",
       "      <td>-0.063595</td>\n",
       "      <td>0.305005</td>\n",
       "      <td>0.312711</td>\n",
       "      <td>-0.015682</td>\n",
       "      <td>0.379685</td>\n",
       "      <td>0.335708</td>\n",
       "      <td>0.162093</td>\n",
       "      <td>-0.016669</td>\n",
       "      <td>0.246252</td>\n",
       "      <td>...</td>\n",
       "      <td>0.016936</td>\n",
       "      <td>1.000000</td>\n",
       "      <td>0.016419</td>\n",
       "      <td>-0.016740</td>\n",
       "      <td>0.346172</td>\n",
       "      <td>0.051717</td>\n",
       "      <td>0.272830</td>\n",
       "      <td>0.012150</td>\n",
       "      <td>0.332739</td>\n",
       "      <td>-0.009908</td>\n",
       "    </tr>\n",
       "    <tr>\n",
       "      <th>magnesium</th>\n",
       "      <td>-0.052522</td>\n",
       "      <td>-0.022711</td>\n",
       "      <td>0.095879</td>\n",
       "      <td>0.031659</td>\n",
       "      <td>0.052395</td>\n",
       "      <td>0.036348</td>\n",
       "      <td>0.029325</td>\n",
       "      <td>-0.091212</td>\n",
       "      <td>0.029192</td>\n",
       "      <td>0.018695</td>\n",
       "      <td>...</td>\n",
       "      <td>-0.017931</td>\n",
       "      <td>0.016419</td>\n",
       "      <td>1.000000</td>\n",
       "      <td>0.010398</td>\n",
       "      <td>0.017685</td>\n",
       "      <td>-0.012418</td>\n",
       "      <td>0.057628</td>\n",
       "      <td>0.001428</td>\n",
       "      <td>0.040195</td>\n",
       "      <td>-0.000038</td>\n",
       "    </tr>\n",
       "    <tr>\n",
       "      <th>mercury</th>\n",
       "      <td>-0.003306</td>\n",
       "      <td>0.020300</td>\n",
       "      <td>-0.015404</td>\n",
       "      <td>0.005987</td>\n",
       "      <td>-0.016174</td>\n",
       "      <td>-0.021472</td>\n",
       "      <td>-0.022787</td>\n",
       "      <td>0.017626</td>\n",
       "      <td>-0.004400</td>\n",
       "      <td>-0.004471</td>\n",
       "      <td>...</td>\n",
       "      <td>-0.020458</td>\n",
       "      <td>-0.016740</td>\n",
       "      <td>0.010398</td>\n",
       "      <td>1.000000</td>\n",
       "      <td>0.006106</td>\n",
       "      <td>-0.062954</td>\n",
       "      <td>0.032685</td>\n",
       "      <td>0.034637</td>\n",
       "      <td>0.006102</td>\n",
       "      <td>0.031704</td>\n",
       "    </tr>\n",
       "    <tr>\n",
       "      <th>perchlorate</th>\n",
       "      <td>0.363069</td>\n",
       "      <td>0.091325</td>\n",
       "      <td>0.332279</td>\n",
       "      <td>0.462234</td>\n",
       "      <td>-0.149344</td>\n",
       "      <td>0.588769</td>\n",
       "      <td>0.524532</td>\n",
       "      <td>0.104564</td>\n",
       "      <td>-0.016191</td>\n",
       "      <td>0.147652</td>\n",
       "      <td>...</td>\n",
       "      <td>-0.014020</td>\n",
       "      <td>0.346172</td>\n",
       "      <td>0.017685</td>\n",
       "      <td>0.006106</td>\n",
       "      <td>1.000000</td>\n",
       "      <td>0.136183</td>\n",
       "      <td>0.373028</td>\n",
       "      <td>0.014440</td>\n",
       "      <td>0.504604</td>\n",
       "      <td>0.000915</td>\n",
       "    </tr>\n",
       "    <tr>\n",
       "      <th>phosphate</th>\n",
       "      <td>0.183482</td>\n",
       "      <td>0.064993</td>\n",
       "      <td>0.104600</td>\n",
       "      <td>0.062682</td>\n",
       "      <td>-0.011590</td>\n",
       "      <td>0.076550</td>\n",
       "      <td>0.136813</td>\n",
       "      <td>0.025468</td>\n",
       "      <td>0.066909</td>\n",
       "      <td>0.012641</td>\n",
       "      <td>...</td>\n",
       "      <td>-0.058778</td>\n",
       "      <td>0.051717</td>\n",
       "      <td>-0.012418</td>\n",
       "      <td>-0.062954</td>\n",
       "      <td>0.136183</td>\n",
       "      <td>1.000000</td>\n",
       "      <td>0.023393</td>\n",
       "      <td>-0.120130</td>\n",
       "      <td>0.089564</td>\n",
       "      <td>0.018203</td>\n",
       "    </tr>\n",
       "    <tr>\n",
       "      <th>radium</th>\n",
       "      <td>0.243217</td>\n",
       "      <td>0.050058</td>\n",
       "      <td>0.218204</td>\n",
       "      <td>0.286569</td>\n",
       "      <td>-0.099259</td>\n",
       "      <td>0.388806</td>\n",
       "      <td>0.315271</td>\n",
       "      <td>0.026215</td>\n",
       "      <td>0.007688</td>\n",
       "      <td>0.099298</td>\n",
       "      <td>...</td>\n",
       "      <td>-0.021410</td>\n",
       "      <td>0.272830</td>\n",
       "      <td>0.057628</td>\n",
       "      <td>0.032685</td>\n",
       "      <td>0.373028</td>\n",
       "      <td>0.023393</td>\n",
       "      <td>1.000000</td>\n",
       "      <td>0.028250</td>\n",
       "      <td>0.354006</td>\n",
       "      <td>0.020273</td>\n",
       "    </tr>\n",
       "    <tr>\n",
       "      <th>selenium</th>\n",
       "      <td>-0.003672</td>\n",
       "      <td>0.029804</td>\n",
       "      <td>-0.007009</td>\n",
       "      <td>0.035242</td>\n",
       "      <td>0.010145</td>\n",
       "      <td>0.011399</td>\n",
       "      <td>0.030539</td>\n",
       "      <td>-0.003267</td>\n",
       "      <td>0.022629</td>\n",
       "      <td>-0.006971</td>\n",
       "      <td>...</td>\n",
       "      <td>0.043109</td>\n",
       "      <td>0.012150</td>\n",
       "      <td>0.001428</td>\n",
       "      <td>0.034637</td>\n",
       "      <td>0.014440</td>\n",
       "      <td>-0.120130</td>\n",
       "      <td>0.028250</td>\n",
       "      <td>1.000000</td>\n",
       "      <td>-0.019966</td>\n",
       "      <td>-0.022134</td>\n",
       "    </tr>\n",
       "    <tr>\n",
       "      <th>silver</th>\n",
       "      <td>0.334993</td>\n",
       "      <td>0.075846</td>\n",
       "      <td>0.307837</td>\n",
       "      <td>0.431606</td>\n",
       "      <td>-0.155408</td>\n",
       "      <td>0.522447</td>\n",
       "      <td>0.510768</td>\n",
       "      <td>0.089333</td>\n",
       "      <td>0.014554</td>\n",
       "      <td>0.148225</td>\n",
       "      <td>...</td>\n",
       "      <td>0.005218</td>\n",
       "      <td>0.332739</td>\n",
       "      <td>0.040195</td>\n",
       "      <td>0.006102</td>\n",
       "      <td>0.504604</td>\n",
       "      <td>0.089564</td>\n",
       "      <td>0.354006</td>\n",
       "      <td>-0.019966</td>\n",
       "      <td>1.000000</td>\n",
       "      <td>0.008153</td>\n",
       "    </tr>\n",
       "    <tr>\n",
       "      <th>uranium</th>\n",
       "      <td>0.014711</td>\n",
       "      <td>0.014581</td>\n",
       "      <td>0.001455</td>\n",
       "      <td>-0.002440</td>\n",
       "      <td>-0.005633</td>\n",
       "      <td>-0.007658</td>\n",
       "      <td>-0.005526</td>\n",
       "      <td>0.006978</td>\n",
       "      <td>0.016792</td>\n",
       "      <td>0.044839</td>\n",
       "      <td>...</td>\n",
       "      <td>0.000824</td>\n",
       "      <td>-0.009908</td>\n",
       "      <td>-0.000038</td>\n",
       "      <td>0.031704</td>\n",
       "      <td>0.000915</td>\n",
       "      <td>0.018203</td>\n",
       "      <td>0.020273</td>\n",
       "      <td>-0.022134</td>\n",
       "      <td>0.008153</td>\n",
       "      <td>1.000000</td>\n",
       "    </tr>\n",
       "  </tbody>\n",
       "</table>\n",
       "<p>22 rows × 22 columns</p>\n",
       "</div>"
      ],
      "text/plain": [
       "             aluminium   ammonia   arsenic    barium   cadmium  chloramine  \\\n",
       "aluminium     1.000000  0.067635  0.225773  0.294145 -0.099911    0.369309   \n",
       "ammonia       0.067635  1.000000  0.046962  0.070342 -0.006538    0.105187   \n",
       "arsenic       0.225773  0.046962  1.000000  0.362945  0.334682    0.356559   \n",
       "barium        0.294145  0.070342  0.362945  1.000000 -0.037803    0.446928   \n",
       "cadmium      -0.099911 -0.006538  0.334682 -0.037803  1.000000   -0.144370   \n",
       "chloramine    0.369309  0.105187  0.356559  0.446928 -0.144370    1.000000   \n",
       "chromium      0.353218  0.125149  0.312475  0.415972 -0.157766    0.555938   \n",
       "copper        0.168612  0.016149 -0.036444  0.065426 -0.109024    0.119059   \n",
       "flouride     -0.009784 -0.027908  0.003792 -0.018548  0.004880    0.004400   \n",
       "bacteria     -0.078238  0.063800  0.035688  0.101259 -0.092431    0.154510   \n",
       "viruses      -0.070863  0.106313  0.011703 -0.002276  0.021183    0.003687   \n",
       "lead          0.020792 -0.037558 -0.087756 -0.042888 -0.034959   -0.030479   \n",
       "nitrates     -0.003810  0.006603  0.027554 -0.011331  0.020194   -0.001551   \n",
       "nitrites      0.237307 -0.063595  0.305005  0.312711 -0.015682    0.379685   \n",
       "magnesium    -0.052522 -0.022711  0.095879  0.031659  0.052395    0.036348   \n",
       "mercury      -0.003306  0.020300 -0.015404  0.005987 -0.016174   -0.021472   \n",
       "perchlorate   0.363069  0.091325  0.332279  0.462234 -0.149344    0.588769   \n",
       "phosphate     0.183482  0.064993  0.104600  0.062682 -0.011590    0.076550   \n",
       "radium        0.243217  0.050058  0.218204  0.286569 -0.099259    0.388806   \n",
       "selenium     -0.003672  0.029804 -0.007009  0.035242  0.010145    0.011399   \n",
       "silver        0.334993  0.075846  0.307837  0.431606 -0.155408    0.522447   \n",
       "uranium       0.014711  0.014581  0.001455 -0.002440 -0.005633   -0.007658   \n",
       "\n",
       "             chromium    copper  flouride  bacteria  ...  nitrates  nitrites  \\\n",
       "aluminium    0.353218  0.168612 -0.009784 -0.078238  ... -0.003810  0.237307   \n",
       "ammonia      0.125149  0.016149 -0.027908  0.063800  ...  0.006603 -0.063595   \n",
       "arsenic      0.312475 -0.036444  0.003792  0.035688  ...  0.027554  0.305005   \n",
       "barium       0.415972  0.065426 -0.018548  0.101259  ... -0.011331  0.312711   \n",
       "cadmium     -0.157766 -0.109024  0.004880 -0.092431  ...  0.020194 -0.015682   \n",
       "chloramine   0.555938  0.119059  0.004400  0.154510  ... -0.001551  0.379685   \n",
       "chromium     1.000000  0.113043 -0.002284  0.142041  ... -0.012793  0.335708   \n",
       "copper       0.113043  1.000000  0.011683  0.149110  ...  0.002332  0.162093   \n",
       "flouride    -0.002284  0.011683  1.000000  0.014134  ... -0.008140 -0.016669   \n",
       "bacteria     0.142041  0.149110  0.014134  1.000000  ... -0.033920  0.246252   \n",
       "viruses      0.002430  0.006292  0.018418  0.618480  ... -0.044544 -0.091517   \n",
       "lead        -0.050501  0.121765  0.011905 -0.027525  ...  0.034978 -0.052405   \n",
       "nitrates    -0.012793  0.002332 -0.008140 -0.033920  ...  1.000000  0.016936   \n",
       "nitrites     0.335708  0.162093 -0.016669  0.246252  ...  0.016936  1.000000   \n",
       "magnesium    0.029325 -0.091212  0.029192  0.018695  ... -0.017931  0.016419   \n",
       "mercury     -0.022787  0.017626 -0.004400 -0.004471  ... -0.020458 -0.016740   \n",
       "perchlorate  0.524532  0.104564 -0.016191  0.147652  ... -0.014020  0.346172   \n",
       "phosphate    0.136813  0.025468  0.066909  0.012641  ... -0.058778  0.051717   \n",
       "radium       0.315271  0.026215  0.007688  0.099298  ... -0.021410  0.272830   \n",
       "selenium     0.030539 -0.003267  0.022629 -0.006971  ...  0.043109  0.012150   \n",
       "silver       0.510768  0.089333  0.014554  0.148225  ...  0.005218  0.332739   \n",
       "uranium     -0.005526  0.006978  0.016792  0.044839  ...  0.000824 -0.009908   \n",
       "\n",
       "             magnesium   mercury  perchlorate  phosphate    radium  selenium  \\\n",
       "aluminium    -0.052522 -0.003306     0.363069   0.183482  0.243217 -0.003672   \n",
       "ammonia      -0.022711  0.020300     0.091325   0.064993  0.050058  0.029804   \n",
       "arsenic       0.095879 -0.015404     0.332279   0.104600  0.218204 -0.007009   \n",
       "barium        0.031659  0.005987     0.462234   0.062682  0.286569  0.035242   \n",
       "cadmium       0.052395 -0.016174    -0.149344  -0.011590 -0.099259  0.010145   \n",
       "chloramine    0.036348 -0.021472     0.588769   0.076550  0.388806  0.011399   \n",
       "chromium      0.029325 -0.022787     0.524532   0.136813  0.315271  0.030539   \n",
       "copper       -0.091212  0.017626     0.104564   0.025468  0.026215 -0.003267   \n",
       "flouride      0.029192 -0.004400    -0.016191   0.066909  0.007688  0.022629   \n",
       "bacteria      0.018695 -0.004471     0.147652   0.012641  0.099298 -0.006971   \n",
       "viruses       0.007426  0.011416     0.003208   0.037473 -0.020112 -0.035047   \n",
       "lead         -0.060391 -0.007832    -0.027709  -0.027474 -0.048741  0.031888   \n",
       "nitrates     -0.017931 -0.020458    -0.014020  -0.058778 -0.021410  0.043109   \n",
       "nitrites      0.016419 -0.016740     0.346172   0.051717  0.272830  0.012150   \n",
       "magnesium     1.000000  0.010398     0.017685  -0.012418  0.057628  0.001428   \n",
       "mercury       0.010398  1.000000     0.006106  -0.062954  0.032685  0.034637   \n",
       "perchlorate   0.017685  0.006106     1.000000   0.136183  0.373028  0.014440   \n",
       "phosphate    -0.012418 -0.062954     0.136183   1.000000  0.023393 -0.120130   \n",
       "radium        0.057628  0.032685     0.373028   0.023393  1.000000  0.028250   \n",
       "selenium      0.001428  0.034637     0.014440  -0.120130  0.028250  1.000000   \n",
       "silver        0.040195  0.006102     0.504604   0.089564  0.354006 -0.019966   \n",
       "uranium      -0.000038  0.031704     0.000915   0.018203  0.020273 -0.022134   \n",
       "\n",
       "               silver   uranium  \n",
       "aluminium    0.334993  0.014711  \n",
       "ammonia      0.075846  0.014581  \n",
       "arsenic      0.307837  0.001455  \n",
       "barium       0.431606 -0.002440  \n",
       "cadmium     -0.155408 -0.005633  \n",
       "chloramine   0.522447 -0.007658  \n",
       "chromium     0.510768 -0.005526  \n",
       "copper       0.089333  0.006978  \n",
       "flouride     0.014554  0.016792  \n",
       "bacteria     0.148225  0.044839  \n",
       "viruses      0.011861  0.058434  \n",
       "lead        -0.057351 -0.009151  \n",
       "nitrates     0.005218  0.000824  \n",
       "nitrites     0.332739 -0.009908  \n",
       "magnesium    0.040195 -0.000038  \n",
       "mercury      0.006102  0.031704  \n",
       "perchlorate  0.504604  0.000915  \n",
       "phosphate    0.089564  0.018203  \n",
       "radium       0.354006  0.020273  \n",
       "selenium    -0.019966 -0.022134  \n",
       "silver       1.000000  0.008153  \n",
       "uranium      0.008153  1.000000  \n",
       "\n",
       "[22 rows x 22 columns]"
      ]
     },
     "execution_count": 33,
     "metadata": {},
     "output_type": "execute_result"
    }
   ],
   "source": [
    "water_corr = water_quality.corr()\n",
    "water_corr"
   ]
  },
  {
   "cell_type": "code",
   "execution_count": 34,
   "metadata": {
    "id": "JagxOSCsmuxV"
   },
   "outputs": [
    {
     "data": {
      "text/plain": [
       "<AxesSubplot:>"
      ]
     },
     "execution_count": 34,
     "metadata": {},
     "output_type": "execute_result"
    },
    {
     "data": {
      "image/png": "[encoded data removed]",
      "text/plain": [
       "<Figure size 432x288 with 2 Axes>"
      ]
     },
     "metadata": {
      "needs_background": "light"
     },
     "output_type": "display_data"
    }
   ],
   "source": [
    "import seaborn as sns\n",
    "\n",
    "sns.heatmap(water_corr, cmap = 'YlGnBu')\n"
   ]
  },
  {
   "cell_type": "markdown",
   "metadata": {
    "id": "dm3XAAO3SQh8"
   },
   "source": [
    "## ***Checking Null Values***"
   ]
  },
  {
   "cell_type": "code",
   "execution_count": 35,
   "metadata": {
    "id": "Omwm65JL7Pmc"
   },
   "outputs": [
    {
     "data": {
      "text/plain": [
       "aluminium         0\n",
       "ammonia           0\n",
       "arsenic           0\n",
       "barium            0\n",
       "cadmium           0\n",
       "chloramine        0\n",
       "chromium          0\n",
       "copper            0\n",
       "flouride          0\n",
       "bacteria          0\n",
       "viruses           0\n",
       "lead              0\n",
       "nitrates          0\n",
       "nitrites          0\n",
       "magnesium      1584\n",
       "mercury           0\n",
       "perchlorate       0\n",
       "phosphate      7641\n",
       "radium            0\n",
       "selenium          0\n",
       "silver            0\n",
       "uranium           0\n",
       "is_safe           0\n",
       "dtype: int64"
      ]
     },
     "execution_count": 35,
     "metadata": {},
     "output_type": "execute_result"
    }
   ],
   "source": [
    "water_quality.isnull().sum()\n"
   ]
  },
  {
   "cell_type": "markdown",
   "metadata": {
    "id": "mtC9o2nWdKOf"
   },
   "source": [
    "## ***Removing Column with huge null value count***"
   ]
  },
  {
   "cell_type": "code",
   "execution_count": 36,
   "metadata": {
    "id": "yuZM78g77qgR"
   },
   "outputs": [
    {
     "data": {
      "text/plain": [
       "(7999, 22)"
      ]
     },
     "execution_count": 36,
     "metadata": {},
     "output_type": "execute_result"
    }
   ],
   "source": [
    "water_quality = water_quality.drop(['phosphate'], axis = 1)\n",
    "water_quality.shape"
   ]
  },
  {
   "cell_type": "code",
   "execution_count": 37,
   "metadata": {
    "id": "UYhRvU5sTtSW"
   },
   "outputs": [
    {
     "data": {
      "text/plain": [
       "aluminium         0\n",
       "ammonia           0\n",
       "arsenic           0\n",
       "barium            0\n",
       "cadmium           0\n",
       "chloramine        0\n",
       "chromium          0\n",
       "copper            0\n",
       "flouride          0\n",
       "bacteria          0\n",
       "viruses           0\n",
       "lead              0\n",
       "nitrates          0\n",
       "nitrites          0\n",
       "magnesium      1584\n",
       "mercury           0\n",
       "perchlorate       0\n",
       "radium            0\n",
       "selenium          0\n",
       "silver            0\n",
       "uranium           0\n",
       "is_safe           0\n",
       "dtype: int64"
      ]
     },
     "execution_count": 37,
     "metadata": {},
     "output_type": "execute_result"
    }
   ],
   "source": [
    "water_quality.isnull().sum()"
   ]
  },
  {
   "cell_type": "markdown",
   "metadata": {
    "id": "9REn183edV4C"
   },
   "source": [
    "## ***Imputing to remove null values***"
   ]
  },
  {
   "cell_type": "code",
   "execution_count": 38,
   "metadata": {
    "id": "m5HYbz04cKZK"
   },
   "outputs": [],
   "source": [
    "from sklearn.impute import SimpleImputer\n",
    "\n",
    "impute = SimpleImputer(missing_values=np.nan, strategy='mean')\n",
    "\n",
    "impute.fit(water_quality[['magnesium']])\n",
    "\n",
    "water_quality['magnesium'] = impute.transform(water_quality[['magnesium']])"
   ]
  },
  {
   "cell_type": "code",
   "execution_count": 39,
   "metadata": {
    "id": "7hy7GacYc0mk"
   },
   "outputs": [
    {
     "data": {
      "text/plain": [
       "aluminium      0\n",
       "ammonia        0\n",
       "arsenic        0\n",
       "barium         0\n",
       "cadmium        0\n",
       "chloramine     0\n",
       "chromium       0\n",
       "copper         0\n",
       "flouride       0\n",
       "bacteria       0\n",
       "viruses        0\n",
       "lead           0\n",
       "nitrates       0\n",
       "nitrites       0\n",
       "magnesium      0\n",
       "mercury        0\n",
       "perchlorate    0\n",
       "radium         0\n",
       "selenium       0\n",
       "silver         0\n",
       "uranium        0\n",
       "is_safe        0\n",
       "dtype: int64"
      ]
     },
     "execution_count": 39,
     "metadata": {},
     "output_type": "execute_result"
    }
   ],
   "source": [
    "water_quality.isnull().sum()"
   ]
  },
  {
   "cell_type": "code",
   "execution_count": 40,
   "metadata": {
    "id": "RLpjis5jdI1_"
   },
   "outputs": [
    {
     "data": {
      "text/html": [
       "<div>\n",
       "<style scoped>\n",
       "    .dataframe tbody tr th:only-of-type {\n",
       "        vertical-align: middle;\n",
       "    }\n",
       "\n",
       "    .dataframe tbody tr th {\n",
       "        vertical-align: top;\n",
       "    }\n",
       "\n",
       "    .dataframe thead th {\n",
       "        text-align: right;\n",
       "    }\n",
       "</style>\n",
       "<table border=\"1\" class=\"dataframe\">\n",
       "  <thead>\n",
       "    <tr style=\"text-align: right;\">\n",
       "      <th></th>\n",
       "      <th>aluminium</th>\n",
       "      <th>ammonia</th>\n",
       "      <th>arsenic</th>\n",
       "      <th>barium</th>\n",
       "      <th>cadmium</th>\n",
       "      <th>chloramine</th>\n",
       "      <th>chromium</th>\n",
       "      <th>copper</th>\n",
       "      <th>flouride</th>\n",
       "      <th>bacteria</th>\n",
       "      <th>...</th>\n",
       "      <th>nitrates</th>\n",
       "      <th>nitrites</th>\n",
       "      <th>magnesium</th>\n",
       "      <th>mercury</th>\n",
       "      <th>perchlorate</th>\n",
       "      <th>radium</th>\n",
       "      <th>selenium</th>\n",
       "      <th>silver</th>\n",
       "      <th>uranium</th>\n",
       "      <th>is_safe</th>\n",
       "    </tr>\n",
       "  </thead>\n",
       "  <tbody>\n",
       "    <tr>\n",
       "      <th>0</th>\n",
       "      <td>1.65</td>\n",
       "      <td>9.08</td>\n",
       "      <td>0.04</td>\n",
       "      <td>2.85</td>\n",
       "      <td>0.007</td>\n",
       "      <td>0.35</td>\n",
       "      <td>0.83</td>\n",
       "      <td>0.17</td>\n",
       "      <td>0.05</td>\n",
       "      <td>0.20</td>\n",
       "      <td>...</td>\n",
       "      <td>16.08</td>\n",
       "      <td>1.13</td>\n",
       "      <td>0.0002</td>\n",
       "      <td>0.007</td>\n",
       "      <td>37.75</td>\n",
       "      <td>6.78</td>\n",
       "      <td>0.08</td>\n",
       "      <td>0.34</td>\n",
       "      <td>0.02</td>\n",
       "      <td>Yes</td>\n",
       "    </tr>\n",
       "    <tr>\n",
       "      <th>1</th>\n",
       "      <td>2.32</td>\n",
       "      <td>21.16</td>\n",
       "      <td>0.01</td>\n",
       "      <td>3.31</td>\n",
       "      <td>0.002</td>\n",
       "      <td>5.28</td>\n",
       "      <td>0.68</td>\n",
       "      <td>0.66</td>\n",
       "      <td>0.90</td>\n",
       "      <td>0.65</td>\n",
       "      <td>...</td>\n",
       "      <td>2.01</td>\n",
       "      <td>1.93</td>\n",
       "      <td>0.0002</td>\n",
       "      <td>0.003</td>\n",
       "      <td>32.26</td>\n",
       "      <td>3.21</td>\n",
       "      <td>0.08</td>\n",
       "      <td>0.27</td>\n",
       "      <td>0.05</td>\n",
       "      <td>Yes</td>\n",
       "    </tr>\n",
       "    <tr>\n",
       "      <th>2</th>\n",
       "      <td>1.01</td>\n",
       "      <td>14.02</td>\n",
       "      <td>0.04</td>\n",
       "      <td>0.58</td>\n",
       "      <td>0.008</td>\n",
       "      <td>4.24</td>\n",
       "      <td>0.53</td>\n",
       "      <td>0.02</td>\n",
       "      <td>0.99</td>\n",
       "      <td>0.05</td>\n",
       "      <td>...</td>\n",
       "      <td>14.16</td>\n",
       "      <td>1.11</td>\n",
       "      <td>0.0003</td>\n",
       "      <td>0.006</td>\n",
       "      <td>50.28</td>\n",
       "      <td>7.07</td>\n",
       "      <td>0.07</td>\n",
       "      <td>0.44</td>\n",
       "      <td>0.01</td>\n",
       "      <td>No</td>\n",
       "    </tr>\n",
       "    <tr>\n",
       "      <th>3</th>\n",
       "      <td>1.36</td>\n",
       "      <td>11.33</td>\n",
       "      <td>0.04</td>\n",
       "      <td>2.96</td>\n",
       "      <td>0.001</td>\n",
       "      <td>7.23</td>\n",
       "      <td>0.03</td>\n",
       "      <td>1.66</td>\n",
       "      <td>1.08</td>\n",
       "      <td>0.71</td>\n",
       "      <td>...</td>\n",
       "      <td>1.41</td>\n",
       "      <td>1.29</td>\n",
       "      <td>0.0004</td>\n",
       "      <td>0.004</td>\n",
       "      <td>9.12</td>\n",
       "      <td>1.72</td>\n",
       "      <td>0.02</td>\n",
       "      <td>0.45</td>\n",
       "      <td>0.05</td>\n",
       "      <td>Yes</td>\n",
       "    </tr>\n",
       "    <tr>\n",
       "      <th>4</th>\n",
       "      <td>0.92</td>\n",
       "      <td>24.33</td>\n",
       "      <td>0.03</td>\n",
       "      <td>0.20</td>\n",
       "      <td>0.006</td>\n",
       "      <td>2.67</td>\n",
       "      <td>0.69</td>\n",
       "      <td>0.57</td>\n",
       "      <td>0.61</td>\n",
       "      <td>0.13</td>\n",
       "      <td>...</td>\n",
       "      <td>6.74</td>\n",
       "      <td>1.11</td>\n",
       "      <td>0.0004</td>\n",
       "      <td>0.003</td>\n",
       "      <td>16.90</td>\n",
       "      <td>2.41</td>\n",
       "      <td>0.02</td>\n",
       "      <td>0.06</td>\n",
       "      <td>0.02</td>\n",
       "      <td>Yes</td>\n",
       "    </tr>\n",
       "  </tbody>\n",
       "</table>\n",
       "<p>5 rows × 22 columns</p>\n",
       "</div>"
      ],
      "text/plain": [
       "   aluminium  ammonia  arsenic  barium  cadmium  chloramine  chromium  copper  \\\n",
       "0       1.65     9.08     0.04    2.85    0.007        0.35      0.83    0.17   \n",
       "1       2.32    21.16     0.01    3.31    0.002        5.28      0.68    0.66   \n",
       "2       1.01    14.02     0.04    0.58    0.008        4.24      0.53    0.02   \n",
       "3       1.36    11.33     0.04    2.96    0.001        7.23      0.03    1.66   \n",
       "4       0.92    24.33     0.03    0.20    0.006        2.67      0.69    0.57   \n",
       "\n",
       "   flouride  bacteria  ...  nitrates  nitrites  magnesium  mercury  \\\n",
       "0      0.05      0.20  ...     16.08      1.13     0.0002    0.007   \n",
       "1      0.90      0.65  ...      2.01      1.93     0.0002    0.003   \n",
       "2      0.99      0.05  ...     14.16      1.11     0.0003    0.006   \n",
       "3      1.08      0.71  ...      1.41      1.29     0.0004    0.004   \n",
       "4      0.61      0.13  ...      6.74      1.11     0.0004    0.003   \n",
       "\n",
       "   perchlorate  radium  selenium  silver  uranium  is_safe  \n",
       "0        37.75    6.78      0.08    0.34     0.02      Yes  \n",
       "1        32.26    3.21      0.08    0.27     0.05      Yes  \n",
       "2        50.28    7.07      0.07    0.44     0.01       No  \n",
       "3         9.12    1.72      0.02    0.45     0.05      Yes  \n",
       "4        16.90    2.41      0.02    0.06     0.02      Yes  \n",
       "\n",
       "[5 rows x 22 columns]"
      ]
     },
     "execution_count": 40,
     "metadata": {},
     "output_type": "execute_result"
    }
   ],
   "source": [
    "water_quality.head()"
   ]
  },
  {
   "cell_type": "markdown",
   "metadata": {
    "id": "7VEN65VOdkB-"
   },
   "source": [
    "## ***Feature Engineering to remove Yes/No values***"
   ]
  },
  {
   "cell_type": "code",
   "execution_count": 41,
   "metadata": {
    "id": "YEq7RUvSlDnW"
   },
   "outputs": [
    {
     "data": {
      "text/plain": [
       "array(['Yes', 'No'], dtype=object)"
      ]
     },
     "execution_count": 41,
     "metadata": {},
     "output_type": "execute_result"
    }
   ],
   "source": [
    "#Finding the unique values\n",
    "water_quality['is_safe'].unique()"
   ]
  },
  {
   "cell_type": "code",
   "execution_count": 42,
   "metadata": {
    "id": "Ztat0nDWlPCy"
   },
   "outputs": [],
   "source": [
    "#Feature Engineering\n",
    "water_quality['is_safe'] = water_quality['is_safe'].map({'Yes':1,'No':0}) "
   ]
  },
  {
   "cell_type": "code",
   "execution_count": 43,
   "metadata": {
    "id": "fMr2vtVJmhp9"
   },
   "outputs": [
    {
     "data": {
      "text/html": [
       "<div>\n",
       "<style scoped>\n",
       "    .dataframe tbody tr th:only-of-type {\n",
       "        vertical-align: middle;\n",
       "    }\n",
       "\n",
       "    .dataframe tbody tr th {\n",
       "        vertical-align: top;\n",
       "    }\n",
       "\n",
       "    .dataframe thead th {\n",
       "        text-align: right;\n",
       "    }\n",
       "</style>\n",
       "<table border=\"1\" class=\"dataframe\">\n",
       "  <thead>\n",
       "    <tr style=\"text-align: right;\">\n",
       "      <th></th>\n",
       "      <th>aluminium</th>\n",
       "      <th>ammonia</th>\n",
       "      <th>arsenic</th>\n",
       "      <th>barium</th>\n",
       "      <th>cadmium</th>\n",
       "      <th>chloramine</th>\n",
       "      <th>chromium</th>\n",
       "      <th>copper</th>\n",
       "      <th>flouride</th>\n",
       "      <th>bacteria</th>\n",
       "      <th>...</th>\n",
       "      <th>nitrates</th>\n",
       "      <th>nitrites</th>\n",
       "      <th>magnesium</th>\n",
       "      <th>mercury</th>\n",
       "      <th>perchlorate</th>\n",
       "      <th>radium</th>\n",
       "      <th>selenium</th>\n",
       "      <th>silver</th>\n",
       "      <th>uranium</th>\n",
       "      <th>is_safe</th>\n",
       "    </tr>\n",
       "  </thead>\n",
       "  <tbody>\n",
       "    <tr>\n",
       "      <th>0</th>\n",
       "      <td>1.65</td>\n",
       "      <td>9.08</td>\n",
       "      <td>0.04</td>\n",
       "      <td>2.85</td>\n",
       "      <td>0.007</td>\n",
       "      <td>0.35</td>\n",
       "      <td>0.83</td>\n",
       "      <td>0.17</td>\n",
       "      <td>0.05</td>\n",
       "      <td>0.20</td>\n",
       "      <td>...</td>\n",
       "      <td>16.08</td>\n",
       "      <td>1.13</td>\n",
       "      <td>0.0002</td>\n",
       "      <td>0.007</td>\n",
       "      <td>37.75</td>\n",
       "      <td>6.78</td>\n",
       "      <td>0.08</td>\n",
       "      <td>0.34</td>\n",
       "      <td>0.02</td>\n",
       "      <td>1</td>\n",
       "    </tr>\n",
       "    <tr>\n",
       "      <th>1</th>\n",
       "      <td>2.32</td>\n",
       "      <td>21.16</td>\n",
       "      <td>0.01</td>\n",
       "      <td>3.31</td>\n",
       "      <td>0.002</td>\n",
       "      <td>5.28</td>\n",
       "      <td>0.68</td>\n",
       "      <td>0.66</td>\n",
       "      <td>0.90</td>\n",
       "      <td>0.65</td>\n",
       "      <td>...</td>\n",
       "      <td>2.01</td>\n",
       "      <td>1.93</td>\n",
       "      <td>0.0002</td>\n",
       "      <td>0.003</td>\n",
       "      <td>32.26</td>\n",
       "      <td>3.21</td>\n",
       "      <td>0.08</td>\n",
       "      <td>0.27</td>\n",
       "      <td>0.05</td>\n",
       "      <td>1</td>\n",
       "    </tr>\n",
       "    <tr>\n",
       "      <th>2</th>\n",
       "      <td>1.01</td>\n",
       "      <td>14.02</td>\n",
       "      <td>0.04</td>\n",
       "      <td>0.58</td>\n",
       "      <td>0.008</td>\n",
       "      <td>4.24</td>\n",
       "      <td>0.53</td>\n",
       "      <td>0.02</td>\n",
       "      <td>0.99</td>\n",
       "      <td>0.05</td>\n",
       "      <td>...</td>\n",
       "      <td>14.16</td>\n",
       "      <td>1.11</td>\n",
       "      <td>0.0003</td>\n",
       "      <td>0.006</td>\n",
       "      <td>50.28</td>\n",
       "      <td>7.07</td>\n",
       "      <td>0.07</td>\n",
       "      <td>0.44</td>\n",
       "      <td>0.01</td>\n",
       "      <td>0</td>\n",
       "    </tr>\n",
       "    <tr>\n",
       "      <th>3</th>\n",
       "      <td>1.36</td>\n",
       "      <td>11.33</td>\n",
       "      <td>0.04</td>\n",
       "      <td>2.96</td>\n",
       "      <td>0.001</td>\n",
       "      <td>7.23</td>\n",
       "      <td>0.03</td>\n",
       "      <td>1.66</td>\n",
       "      <td>1.08</td>\n",
       "      <td>0.71</td>\n",
       "      <td>...</td>\n",
       "      <td>1.41</td>\n",
       "      <td>1.29</td>\n",
       "      <td>0.0004</td>\n",
       "      <td>0.004</td>\n",
       "      <td>9.12</td>\n",
       "      <td>1.72</td>\n",
       "      <td>0.02</td>\n",
       "      <td>0.45</td>\n",
       "      <td>0.05</td>\n",
       "      <td>1</td>\n",
       "    </tr>\n",
       "    <tr>\n",
       "      <th>4</th>\n",
       "      <td>0.92</td>\n",
       "      <td>24.33</td>\n",
       "      <td>0.03</td>\n",
       "      <td>0.20</td>\n",
       "      <td>0.006</td>\n",
       "      <td>2.67</td>\n",
       "      <td>0.69</td>\n",
       "      <td>0.57</td>\n",
       "      <td>0.61</td>\n",
       "      <td>0.13</td>\n",
       "      <td>...</td>\n",
       "      <td>6.74</td>\n",
       "      <td>1.11</td>\n",
       "      <td>0.0004</td>\n",
       "      <td>0.003</td>\n",
       "      <td>16.90</td>\n",
       "      <td>2.41</td>\n",
       "      <td>0.02</td>\n",
       "      <td>0.06</td>\n",
       "      <td>0.02</td>\n",
       "      <td>1</td>\n",
       "    </tr>\n",
       "  </tbody>\n",
       "</table>\n",
       "<p>5 rows × 22 columns</p>\n",
       "</div>"
      ],
      "text/plain": [
       "   aluminium  ammonia  arsenic  barium  cadmium  chloramine  chromium  copper  \\\n",
       "0       1.65     9.08     0.04    2.85    0.007        0.35      0.83    0.17   \n",
       "1       2.32    21.16     0.01    3.31    0.002        5.28      0.68    0.66   \n",
       "2       1.01    14.02     0.04    0.58    0.008        4.24      0.53    0.02   \n",
       "3       1.36    11.33     0.04    2.96    0.001        7.23      0.03    1.66   \n",
       "4       0.92    24.33     0.03    0.20    0.006        2.67      0.69    0.57   \n",
       "\n",
       "   flouride  bacteria  ...  nitrates  nitrites  magnesium  mercury  \\\n",
       "0      0.05      0.20  ...     16.08      1.13     0.0002    0.007   \n",
       "1      0.90      0.65  ...      2.01      1.93     0.0002    0.003   \n",
       "2      0.99      0.05  ...     14.16      1.11     0.0003    0.006   \n",
       "3      1.08      0.71  ...      1.41      1.29     0.0004    0.004   \n",
       "4      0.61      0.13  ...      6.74      1.11     0.0004    0.003   \n",
       "\n",
       "   perchlorate  radium  selenium  silver  uranium  is_safe  \n",
       "0        37.75    6.78      0.08    0.34     0.02        1  \n",
       "1        32.26    3.21      0.08    0.27     0.05        1  \n",
       "2        50.28    7.07      0.07    0.44     0.01        0  \n",
       "3         9.12    1.72      0.02    0.45     0.05        1  \n",
       "4        16.90    2.41      0.02    0.06     0.02        1  \n",
       "\n",
       "[5 rows x 22 columns]"
      ]
     },
     "execution_count": 43,
     "metadata": {},
     "output_type": "execute_result"
    }
   ],
   "source": [
    "water_quality.head()"
   ]
  },
  {
   "cell_type": "markdown",
   "metadata": {
    "id": "rMxZ49NA2Oy3"
   },
   "source": [
    "# Imbalanced Dataset check"
   ]
  },
  {
   "cell_type": "code",
   "execution_count": 44,
   "metadata": {
    "id": "yTgD1Jw43RF2"
   },
   "outputs": [
    {
     "name": "stdout",
     "output_type": "stream",
     "text": [
      "(7087, 22) (912, 22)\n"
     ]
    }
   ],
   "source": [
    "not_safe = water_quality[water_quality[\"is_safe\"]==0]\n",
    "\n",
    "safe = water_quality[water_quality[\"is_safe\"]==1]\n",
    "\n",
    "print(not_safe.shape, safe.shape)"
   ]
  },
  {
   "cell_type": "code",
   "execution_count": 45,
   "metadata": {
    "id": "mopTvvui6n6b"
   },
   "outputs": [
    {
     "data": {
      "text/plain": [
       "Text(0, 0.5, 'parc')"
      ]
     },
     "execution_count": 45,
     "metadata": {},
     "output_type": "execute_result"
    },
    {
     "data": {
      "image/png": "[encoded data removed]",
      "text/plain": [
       "<Figure size 432x288 with 1 Axes>"
      ]
     },
     "metadata": {
      "needs_background": "light"
     },
     "output_type": "display_data"
    }
   ],
   "source": [
    "count_classes = pd.value_counts(water_quality[\"is_safe\"], sort = True)\n",
    "count_classes.plot(kind=\"bar\", rot=0)\n",
    "plt.title(\"Transaction class Distribution\")\n",
    "plt.xticks(range(2), [\"no\", \"yes\"])\n",
    "plt.xlabel(\"is_safe\")\n",
    "plt.ylabel(\"parc\")"
   ]
  },
  {
   "cell_type": "markdown",
   "metadata": {
    "id": "8y_ybP3z3TVP"
   },
   "source": [
    "# Feature value and Target value "
   ]
  },
  {
   "cell_type": "code",
   "execution_count": 46,
   "metadata": {
    "id": "PKKcsoGVueDJ"
   },
   "outputs": [],
   "source": [
    "#create independent and Dependent Feature\n",
    "columns = water_quality.columns.tolist()\n",
    "#Filter the columns to remove data we  do not want\n",
    "columns = [c for c in columns if c not in [\"is_safe\"]]\n",
    "#store the var we are predicting\n",
    "target = \"is_safe\"\n",
    "#define a random state\n",
    "state = np.random.RandomState(42)\n",
    "#feature value\n",
    "X = water_quality[columns]\n",
    "#target value\n",
    "Y = water_quality[target]\n",
    "x_outliers = state.uniform(low=0, high=1, size=(X.shape[0], X.shape[1]))\n"
   ]
  },
  {
   "cell_type": "markdown",
   "metadata": {
    "id": "IT50d5cW4K3u"
   },
   "source": [
    "# Balancing using under_sampling"
   ]
  },
  {
   "cell_type": "code",
   "execution_count": 49,
   "metadata": {
    "id": "ZcSWB4xou5G2"
   },
   "outputs": [
    {
     "ename": "ImportError",
     "evalue": "cannot import name '_ClassNamePrefixFeaturesOutMixin' from 'sklearn.base' (C:\\anaconda\\lib\\site-packages\\sklearn\\base.py)",
     "output_type": "error",
     "traceback": [
      "\u001b[1;31m---------------------------------------------------------------------------\u001b[0m",
      "\u001b[1;31mImportError\u001b[0m                               Traceback (most recent call last)",
      "\u001b[1;32m<ipython-input-49-f2fe1f270dd8>\u001b[0m in \u001b[0;36m<module>\u001b[1;34m\u001b[0m\n\u001b[1;32m----> 1\u001b[1;33m \u001b[1;32mfrom\u001b[0m \u001b[0mimblearn\u001b[0m \u001b[1;32mimport\u001b[0m \u001b[0munder_sampling\u001b[0m\u001b[1;33m\u001b[0m\u001b[1;33m\u001b[0m\u001b[0m\n\u001b[0m\u001b[0;32m      2\u001b[0m \u001b[1;32mfrom\u001b[0m \u001b[0mimblearn\u001b[0m\u001b[1;33m.\u001b[0m\u001b[0munder_sampling\u001b[0m \u001b[1;32mimport\u001b[0m \u001b[0mRandomUnderSampler\u001b[0m\u001b[1;33m\u001b[0m\u001b[1;33m\u001b[0m\u001b[0m\n\u001b[0;32m      3\u001b[0m \u001b[1;33m\u001b[0m\u001b[0m\n\u001b[0;32m      4\u001b[0m \u001b[0munder_sampler\u001b[0m \u001b[1;33m=\u001b[0m \u001b[0mRandomUnderSampler\u001b[0m\u001b[1;33m(\u001b[0m\u001b[1;33m)\u001b[0m\u001b[1;33m\u001b[0m\u001b[1;33m\u001b[0m\u001b[0m\n\u001b[0;32m      5\u001b[0m \u001b[0mx\u001b[0m\u001b[1;33m,\u001b[0m \u001b[0my\u001b[0m \u001b[1;33m=\u001b[0m \u001b[0munder_sampler\u001b[0m\u001b[1;33m.\u001b[0m\u001b[0mfit_resample\u001b[0m\u001b[1;33m(\u001b[0m\u001b[0mX\u001b[0m\u001b[1;33m,\u001b[0m \u001b[0mY\u001b[0m\u001b[1;33m)\u001b[0m\u001b[1;33m\u001b[0m\u001b[1;33m\u001b[0m\u001b[0m\n",
      "\u001b[1;32mC:\\anaconda\\lib\\site-packages\\imblearn\\__init__.py\u001b[0m in \u001b[0;36m<module>\u001b[1;34m\u001b[0m\n\u001b[0;32m     50\u001b[0m     \u001b[1;31m# process, as it may not be compiled yet\u001b[0m\u001b[1;33m\u001b[0m\u001b[1;33m\u001b[0m\u001b[1;33m\u001b[0m\u001b[0m\n\u001b[0;32m     51\u001b[0m \u001b[1;32melse\u001b[0m\u001b[1;33m:\u001b[0m\u001b[1;33m\u001b[0m\u001b[1;33m\u001b[0m\u001b[0m\n\u001b[1;32m---> 52\u001b[1;33m     \u001b[1;32mfrom\u001b[0m \u001b[1;33m.\u001b[0m \u001b[1;32mimport\u001b[0m \u001b[0mcombine\u001b[0m\u001b[1;33m\u001b[0m\u001b[1;33m\u001b[0m\u001b[0m\n\u001b[0m\u001b[0;32m     53\u001b[0m     \u001b[1;32mfrom\u001b[0m \u001b[1;33m.\u001b[0m \u001b[1;32mimport\u001b[0m \u001b[0mensemble\u001b[0m\u001b[1;33m\u001b[0m\u001b[1;33m\u001b[0m\u001b[0m\n\u001b[0;32m     54\u001b[0m     \u001b[1;32mfrom\u001b[0m \u001b[1;33m.\u001b[0m \u001b[1;32mimport\u001b[0m \u001b[0mexceptions\u001b[0m\u001b[1;33m\u001b[0m\u001b[1;33m\u001b[0m\u001b[0m\n",
      "\u001b[1;32mC:\\anaconda\\lib\\site-packages\\imblearn\\combine\\__init__.py\u001b[0m in \u001b[0;36m<module>\u001b[1;34m\u001b[0m\n\u001b[0;32m      3\u001b[0m \"\"\"\n\u001b[0;32m      4\u001b[0m \u001b[1;33m\u001b[0m\u001b[0m\n\u001b[1;32m----> 5\u001b[1;33m \u001b[1;32mfrom\u001b[0m \u001b[1;33m.\u001b[0m\u001b[0m_smote_enn\u001b[0m \u001b[1;32mimport\u001b[0m \u001b[0mSMOTEENN\u001b[0m\u001b[1;33m\u001b[0m\u001b[1;33m\u001b[0m\u001b[0m\n\u001b[0m\u001b[0;32m      6\u001b[0m \u001b[1;32mfrom\u001b[0m \u001b[1;33m.\u001b[0m\u001b[0m_smote_tomek\u001b[0m \u001b[1;32mimport\u001b[0m \u001b[0mSMOTETomek\u001b[0m\u001b[1;33m\u001b[0m\u001b[1;33m\u001b[0m\u001b[0m\n\u001b[0;32m      7\u001b[0m \u001b[1;33m\u001b[0m\u001b[0m\n",
      "\u001b[1;32mC:\\anaconda\\lib\\site-packages\\imblearn\\combine\\_smote_enn.py\u001b[0m in \u001b[0;36m<module>\u001b[1;34m\u001b[0m\n\u001b[0;32m      9\u001b[0m \u001b[1;33m\u001b[0m\u001b[0m\n\u001b[0;32m     10\u001b[0m \u001b[1;32mfrom\u001b[0m \u001b[1;33m.\u001b[0m\u001b[1;33m.\u001b[0m\u001b[0mbase\u001b[0m \u001b[1;32mimport\u001b[0m \u001b[0mBaseSampler\u001b[0m\u001b[1;33m\u001b[0m\u001b[1;33m\u001b[0m\u001b[0m\n\u001b[1;32m---> 11\u001b[1;33m \u001b[1;32mfrom\u001b[0m \u001b[1;33m.\u001b[0m\u001b[1;33m.\u001b[0m\u001b[0mover_sampling\u001b[0m \u001b[1;32mimport\u001b[0m \u001b[0mSMOTE\u001b[0m\u001b[1;33m\u001b[0m\u001b[1;33m\u001b[0m\u001b[0m\n\u001b[0m\u001b[0;32m     12\u001b[0m \u001b[1;32mfrom\u001b[0m \u001b[1;33m.\u001b[0m\u001b[1;33m.\u001b[0m\u001b[0mover_sampling\u001b[0m\u001b[1;33m.\u001b[0m\u001b[0mbase\u001b[0m \u001b[1;32mimport\u001b[0m \u001b[0mBaseOverSampler\u001b[0m\u001b[1;33m\u001b[0m\u001b[1;33m\u001b[0m\u001b[0m\n\u001b[0;32m     13\u001b[0m \u001b[1;32mfrom\u001b[0m \u001b[1;33m.\u001b[0m\u001b[1;33m.\u001b[0m\u001b[0munder_sampling\u001b[0m \u001b[1;32mimport\u001b[0m \u001b[0mEditedNearestNeighbours\u001b[0m\u001b[1;33m\u001b[0m\u001b[1;33m\u001b[0m\u001b[0m\n",
      "\u001b[1;32mC:\\anaconda\\lib\\site-packages\\imblearn\\over_sampling\\__init__.py\u001b[0m in \u001b[0;36m<module>\u001b[1;34m\u001b[0m\n\u001b[0;32m      6\u001b[0m \u001b[1;32mfrom\u001b[0m \u001b[1;33m.\u001b[0m\u001b[0m_adasyn\u001b[0m \u001b[1;32mimport\u001b[0m \u001b[0mADASYN\u001b[0m\u001b[1;33m\u001b[0m\u001b[1;33m\u001b[0m\u001b[0m\n\u001b[0;32m      7\u001b[0m \u001b[1;32mfrom\u001b[0m \u001b[1;33m.\u001b[0m\u001b[0m_random_over_sampler\u001b[0m \u001b[1;32mimport\u001b[0m \u001b[0mRandomOverSampler\u001b[0m\u001b[1;33m\u001b[0m\u001b[1;33m\u001b[0m\u001b[0m\n\u001b[1;32m----> 8\u001b[1;33m \u001b[1;32mfrom\u001b[0m \u001b[1;33m.\u001b[0m\u001b[0m_smote\u001b[0m \u001b[1;32mimport\u001b[0m \u001b[0mSMOTE\u001b[0m\u001b[1;33m\u001b[0m\u001b[1;33m\u001b[0m\u001b[0m\n\u001b[0m\u001b[0;32m      9\u001b[0m \u001b[1;32mfrom\u001b[0m \u001b[1;33m.\u001b[0m\u001b[0m_smote\u001b[0m \u001b[1;32mimport\u001b[0m \u001b[0mBorderlineSMOTE\u001b[0m\u001b[1;33m\u001b[0m\u001b[1;33m\u001b[0m\u001b[0m\n\u001b[0;32m     10\u001b[0m \u001b[1;32mfrom\u001b[0m \u001b[1;33m.\u001b[0m\u001b[0m_smote\u001b[0m \u001b[1;32mimport\u001b[0m \u001b[0mKMeansSMOTE\u001b[0m\u001b[1;33m\u001b[0m\u001b[1;33m\u001b[0m\u001b[0m\n",
      "\u001b[1;32mC:\\anaconda\\lib\\site-packages\\imblearn\\over_sampling\\_smote\\__init__.py\u001b[0m in \u001b[0;36m<module>\u001b[1;34m\u001b[0m\n\u001b[0;32m      3\u001b[0m \u001b[1;32mfrom\u001b[0m \u001b[1;33m.\u001b[0m\u001b[0mbase\u001b[0m \u001b[1;32mimport\u001b[0m \u001b[0mSMOTENC\u001b[0m\u001b[1;33m\u001b[0m\u001b[1;33m\u001b[0m\u001b[0m\n\u001b[0;32m      4\u001b[0m \u001b[1;33m\u001b[0m\u001b[0m\n\u001b[1;32m----> 5\u001b[1;33m \u001b[1;32mfrom\u001b[0m \u001b[1;33m.\u001b[0m\u001b[0mcluster\u001b[0m \u001b[1;32mimport\u001b[0m \u001b[0mKMeansSMOTE\u001b[0m\u001b[1;33m\u001b[0m\u001b[1;33m\u001b[0m\u001b[0m\n\u001b[0m\u001b[0;32m      6\u001b[0m \u001b[1;33m\u001b[0m\u001b[0m\n\u001b[0;32m      7\u001b[0m \u001b[1;32mfrom\u001b[0m \u001b[1;33m.\u001b[0m\u001b[0mfilter\u001b[0m \u001b[1;32mimport\u001b[0m \u001b[0mBorderlineSMOTE\u001b[0m\u001b[1;33m\u001b[0m\u001b[1;33m\u001b[0m\u001b[0m\n",
      "\u001b[1;32mC:\\anaconda\\lib\\site-packages\\imblearn\\over_sampling\\_smote\\cluster.py\u001b[0m in \u001b[0;36m<module>\u001b[1;34m\u001b[0m\n\u001b[0;32m     12\u001b[0m \u001b[1;33m\u001b[0m\u001b[0m\n\u001b[0;32m     13\u001b[0m \u001b[1;32mfrom\u001b[0m \u001b[0msklearn\u001b[0m\u001b[1;33m.\u001b[0m\u001b[0mbase\u001b[0m \u001b[1;32mimport\u001b[0m \u001b[0mclone\u001b[0m\u001b[1;33m\u001b[0m\u001b[1;33m\u001b[0m\u001b[0m\n\u001b[1;32m---> 14\u001b[1;33m \u001b[1;32mfrom\u001b[0m \u001b[0msklearn\u001b[0m\u001b[1;33m.\u001b[0m\u001b[0mcluster\u001b[0m \u001b[1;32mimport\u001b[0m \u001b[0mMiniBatchKMeans\u001b[0m\u001b[1;33m\u001b[0m\u001b[1;33m\u001b[0m\u001b[0m\n\u001b[0m\u001b[0;32m     15\u001b[0m \u001b[1;32mfrom\u001b[0m \u001b[0msklearn\u001b[0m\u001b[1;33m.\u001b[0m\u001b[0mmetrics\u001b[0m \u001b[1;32mimport\u001b[0m \u001b[0mpairwise_distances\u001b[0m\u001b[1;33m\u001b[0m\u001b[1;33m\u001b[0m\u001b[0m\n\u001b[0;32m     16\u001b[0m \u001b[1;32mfrom\u001b[0m \u001b[0msklearn\u001b[0m\u001b[1;33m.\u001b[0m\u001b[0mutils\u001b[0m \u001b[1;32mimport\u001b[0m \u001b[0m_safe_indexing\u001b[0m\u001b[1;33m\u001b[0m\u001b[1;33m\u001b[0m\u001b[0m\n",
      "\u001b[1;32mC:\\anaconda\\lib\\site-packages\\sklearn\\cluster\\__init__.py\u001b[0m in \u001b[0;36m<module>\u001b[1;34m\u001b[0m\n\u001b[0;32m      4\u001b[0m \"\"\"\n\u001b[0;32m      5\u001b[0m \u001b[1;33m\u001b[0m\u001b[0m\n\u001b[1;32m----> 6\u001b[1;33m \u001b[1;32mfrom\u001b[0m \u001b[1;33m.\u001b[0m\u001b[0m_spectral\u001b[0m \u001b[1;32mimport\u001b[0m \u001b[0mspectral_clustering\u001b[0m\u001b[1;33m,\u001b[0m \u001b[0mSpectralClustering\u001b[0m\u001b[1;33m\u001b[0m\u001b[1;33m\u001b[0m\u001b[0m\n\u001b[0m\u001b[0;32m      7\u001b[0m \u001b[1;32mfrom\u001b[0m \u001b[1;33m.\u001b[0m\u001b[0m_mean_shift\u001b[0m \u001b[1;32mimport\u001b[0m \u001b[0mmean_shift\u001b[0m\u001b[1;33m,\u001b[0m \u001b[0mMeanShift\u001b[0m\u001b[1;33m,\u001b[0m \u001b[0mestimate_bandwidth\u001b[0m\u001b[1;33m,\u001b[0m \u001b[0mget_bin_seeds\u001b[0m\u001b[1;33m\u001b[0m\u001b[1;33m\u001b[0m\u001b[0m\n\u001b[0;32m      8\u001b[0m \u001b[1;32mfrom\u001b[0m \u001b[1;33m.\u001b[0m\u001b[0m_affinity_propagation\u001b[0m \u001b[1;32mimport\u001b[0m \u001b[0maffinity_propagation\u001b[0m\u001b[1;33m,\u001b[0m \u001b[0mAffinityPropagation\u001b[0m\u001b[1;33m\u001b[0m\u001b[1;33m\u001b[0m\u001b[0m\n",
      "\u001b[1;32mC:\\anaconda\\lib\\site-packages\\sklearn\\cluster\\_spectral.py\u001b[0m in \u001b[0;36m<module>\u001b[1;34m\u001b[0m\n\u001b[0;32m     19\u001b[0m \u001b[1;32mfrom\u001b[0m \u001b[1;33m.\u001b[0m\u001b[1;33m.\u001b[0m\u001b[0mmetrics\u001b[0m\u001b[1;33m.\u001b[0m\u001b[0mpairwise\u001b[0m \u001b[1;32mimport\u001b[0m \u001b[0mpairwise_kernels\u001b[0m\u001b[1;33m\u001b[0m\u001b[1;33m\u001b[0m\u001b[0m\n\u001b[0;32m     20\u001b[0m \u001b[1;32mfrom\u001b[0m \u001b[1;33m.\u001b[0m\u001b[1;33m.\u001b[0m\u001b[0mneighbors\u001b[0m \u001b[1;32mimport\u001b[0m \u001b[0mkneighbors_graph\u001b[0m\u001b[1;33m,\u001b[0m \u001b[0mNearestNeighbors\u001b[0m\u001b[1;33m\u001b[0m\u001b[1;33m\u001b[0m\u001b[0m\n\u001b[1;32m---> 21\u001b[1;33m \u001b[1;32mfrom\u001b[0m \u001b[1;33m.\u001b[0m\u001b[1;33m.\u001b[0m\u001b[0mmanifold\u001b[0m \u001b[1;32mimport\u001b[0m \u001b[0mspectral_embedding\u001b[0m\u001b[1;33m\u001b[0m\u001b[1;33m\u001b[0m\u001b[0m\n\u001b[0m\u001b[0;32m     22\u001b[0m \u001b[1;32mfrom\u001b[0m \u001b[1;33m.\u001b[0m\u001b[0m_kmeans\u001b[0m \u001b[1;32mimport\u001b[0m \u001b[0mk_means\u001b[0m\u001b[1;33m\u001b[0m\u001b[1;33m\u001b[0m\u001b[0m\n\u001b[0;32m     23\u001b[0m \u001b[1;33m\u001b[0m\u001b[0m\n",
      "\u001b[1;32mC:\\anaconda\\lib\\site-packages\\sklearn\\manifold\\__init__.py\u001b[0m in \u001b[0;36m<module>\u001b[1;34m\u001b[0m\n\u001b[0;32m      3\u001b[0m \"\"\"\n\u001b[0;32m      4\u001b[0m \u001b[1;33m\u001b[0m\u001b[0m\n\u001b[1;32m----> 5\u001b[1;33m \u001b[1;32mfrom\u001b[0m \u001b[1;33m.\u001b[0m\u001b[0m_locally_linear\u001b[0m \u001b[1;32mimport\u001b[0m \u001b[0mlocally_linear_embedding\u001b[0m\u001b[1;33m,\u001b[0m \u001b[0mLocallyLinearEmbedding\u001b[0m\u001b[1;33m\u001b[0m\u001b[1;33m\u001b[0m\u001b[0m\n\u001b[0m\u001b[0;32m      6\u001b[0m \u001b[1;32mfrom\u001b[0m \u001b[1;33m.\u001b[0m\u001b[0m_isomap\u001b[0m \u001b[1;32mimport\u001b[0m \u001b[0mIsomap\u001b[0m\u001b[1;33m\u001b[0m\u001b[1;33m\u001b[0m\u001b[0m\n\u001b[0;32m      7\u001b[0m \u001b[1;32mfrom\u001b[0m \u001b[1;33m.\u001b[0m\u001b[0m_mds\u001b[0m \u001b[1;32mimport\u001b[0m \u001b[0mMDS\u001b[0m\u001b[1;33m,\u001b[0m \u001b[0msmacof\u001b[0m\u001b[1;33m\u001b[0m\u001b[1;33m\u001b[0m\u001b[0m\n",
      "\u001b[1;32mC:\\anaconda\\lib\\site-packages\\sklearn\\manifold\\_locally_linear.py\u001b[0m in \u001b[0;36m<module>\u001b[1;34m\u001b[0m\n\u001b[0;32m     10\u001b[0m \u001b[1;32mfrom\u001b[0m \u001b[0mscipy\u001b[0m\u001b[1;33m.\u001b[0m\u001b[0msparse\u001b[0m\u001b[1;33m.\u001b[0m\u001b[0mlinalg\u001b[0m \u001b[1;32mimport\u001b[0m \u001b[0meigsh\u001b[0m\u001b[1;33m\u001b[0m\u001b[1;33m\u001b[0m\u001b[0m\n\u001b[0;32m     11\u001b[0m \u001b[1;33m\u001b[0m\u001b[0m\n\u001b[1;32m---> 12\u001b[1;33m from ..base import (\n\u001b[0m\u001b[0;32m     13\u001b[0m     \u001b[0mBaseEstimator\u001b[0m\u001b[1;33m,\u001b[0m\u001b[1;33m\u001b[0m\u001b[1;33m\u001b[0m\u001b[0m\n\u001b[0;32m     14\u001b[0m     \u001b[0mTransformerMixin\u001b[0m\u001b[1;33m,\u001b[0m\u001b[1;33m\u001b[0m\u001b[1;33m\u001b[0m\u001b[0m\n",
      "\u001b[1;31mImportError\u001b[0m: cannot import name '_ClassNamePrefixFeaturesOutMixin' from 'sklearn.base' (C:\\anaconda\\lib\\site-packages\\sklearn\\base.py)"
     ]
    }
   ],
   "source": [
    "from imblearn import under_sampling \n",
    "from imblearn.under_sampling import RandomUnderSampler  \n",
    "\n",
    "under_sampler = RandomUnderSampler()\n",
    "x, y = under_sampler.fit_resample(X, Y)\n",
    "\n",
    "x.shape, y.shape"
   ]
  },
  {
   "cell_type": "markdown",
   "metadata": {
    "id": "2iA9618dl8Rb"
   },
   "source": [
    "## ***Splitting train and test data***"
   ]
  },
  {
   "cell_type": "code",
   "execution_count": 26,
   "metadata": {
    "id": "_8tEmqUkWh_1"
   },
   "outputs": [
    {
     "ename": "NameError",
     "evalue": "name 'x' is not defined",
     "output_type": "error",
     "traceback": [
      "\u001b[1;31m---------------------------------------------------------------------------\u001b[0m",
      "\u001b[1;31mNameError\u001b[0m                                 Traceback (most recent call last)",
      "\u001b[1;32m<ipython-input-26-d52f4da0ae49>\u001b[0m in \u001b[0;36m<module>\u001b[1;34m\u001b[0m\n\u001b[0;32m      1\u001b[0m \u001b[1;32mfrom\u001b[0m \u001b[0msklearn\u001b[0m\u001b[1;33m.\u001b[0m\u001b[0mmodel_selection\u001b[0m \u001b[1;32mimport\u001b[0m \u001b[0mtrain_test_split\u001b[0m\u001b[1;33m\u001b[0m\u001b[1;33m\u001b[0m\u001b[0m\n\u001b[0;32m      2\u001b[0m \u001b[1;31m#Split the data into 70% training and 30% testing\u001b[0m\u001b[1;33m\u001b[0m\u001b[1;33m\u001b[0m\u001b[1;33m\u001b[0m\u001b[0m\n\u001b[1;32m----> 3\u001b[1;33m \u001b[0mx_train\u001b[0m\u001b[1;33m,\u001b[0m \u001b[0mx_test\u001b[0m\u001b[1;33m,\u001b[0m \u001b[0my_train\u001b[0m\u001b[1;33m,\u001b[0m \u001b[0my_test\u001b[0m \u001b[1;33m=\u001b[0m \u001b[0mtrain_test_split\u001b[0m\u001b[1;33m(\u001b[0m\u001b[0mx\u001b[0m\u001b[1;33m,\u001b[0m \u001b[0my\u001b[0m\u001b[1;33m,\u001b[0m \u001b[0mtest_size\u001b[0m \u001b[1;33m=\u001b[0m \u001b[1;36m0.3\u001b[0m\u001b[1;33m,\u001b[0m \u001b[0mrandom_state\u001b[0m \u001b[1;33m=\u001b[0m \u001b[1;36m0\u001b[0m\u001b[1;33m)\u001b[0m\u001b[1;33m\u001b[0m\u001b[1;33m\u001b[0m\u001b[0m\n\u001b[0m",
      "\u001b[1;31mNameError\u001b[0m: name 'x' is not defined"
     ]
    }
   ],
   "source": [
    "from sklearn.model_selection import train_test_split\n",
    "#Split the data into 70% training and 30% testing\n",
    "x_train, x_test, y_train, y_test = train_test_split(x, y, test_size = 0.3, random_state = 0)"
   ]
  },
  {
   "cell_type": "markdown",
   "metadata": {
    "id": "Q1DoO2oJ9NAK"
   },
   "source": [
    "# Scaling"
   ]
  },
  {
   "cell_type": "code",
   "execution_count": null,
   "metadata": {
    "id": "jbltXgZD3q1-"
   },
   "outputs": [],
   "source": [
    "# preprocessing using zero mean and unit variance scaling\n",
    "from sklearn.preprocessing import StandardScaler  \n",
    "scaler = StandardScaler() \n",
    "scaler.fit(x_train)\n",
    "x_train = scaler.transform(x_train)\n",
    "x_test = scaler.transform(x_test)"
   ]
  },
  {
   "cell_type": "markdown",
   "metadata": {
    "id": "c5mirDct0eiw"
   },
   "source": [
    "# Logistic Regression"
   ]
  },
  {
   "cell_type": "code",
   "execution_count": null,
   "metadata": {
    "id": "5w4XK27KPtk0"
   },
   "outputs": [],
   "source": [
    "from sklearn.linear_model import LogisticRegression\n",
    "from sklearn.metrics import confusion_matrix, accuracy_score, classification_report"
   ]
  },
  {
   "cell_type": "code",
   "execution_count": null,
   "metadata": {
    "id": "OcWNoJmCRPFS"
   },
   "outputs": [],
   "source": [
    "# Creating model object\n",
    "model_lg = LogisticRegression(max_iter=120,random_state=0, n_jobs=20)"
   ]
  },
  {
   "cell_type": "code",
   "execution_count": null,
   "metadata": {
    "id": "9oLLEWy3RPbo"
   },
   "outputs": [],
   "source": [
    "# Training Model\n",
    "model_lg.fit(x_train, y_train.ravel())"
   ]
  },
  {
   "cell_type": "code",
   "execution_count": null,
   "metadata": {
    "id": "yGQmhZjmSFEi"
   },
   "outputs": [],
   "source": [
    "# Making Prediction\n",
    "pred_lg = model_lg.predict(x_test)"
   ]
  },
  {
   "cell_type": "code",
   "execution_count": null,
   "metadata": {
    "id": "C3LttMi4SFJC"
   },
   "outputs": [],
   "source": [
    "# Calculating Accuracy Score\n",
    "lg = accuracy_score(y_test, pred_lg)\n",
    "print(lg)"
   ]
  },
  {
   "cell_type": "code",
   "execution_count": null,
   "metadata": {
    "id": "l3OR8orQSMHc"
   },
   "outputs": [],
   "source": [
    "print(classification_report(y_test,pred_lg))"
   ]
  },
  {
   "cell_type": "code",
   "execution_count": null,
   "metadata": {
    "id": "ObmGcBZ7SQuX"
   },
   "outputs": [],
   "source": [
    "# confusion Maxtrix\n",
    "cm1 = confusion_matrix(y_test, pred_lg)\n",
    "sns.heatmap(cm1/np.sum(cm1), annot = True, fmt=  '0.2%', cmap = 'Reds')"
   ]
  },
  {
   "cell_type": "markdown",
   "metadata": {
    "id": "emmcQ4BG0uJ-"
   },
   "source": [
    "# Naive Bayes Classifier"
   ]
  },
  {
   "cell_type": "code",
   "execution_count": null,
   "metadata": {
    "id": "lhbS3FsEwGyh"
   },
   "outputs": [],
   "source": [
    "from sklearn.naive_bayes import GaussianNB\n",
    "from sklearn.metrics import confusion_matrix, accuracy_score, classification_report"
   ]
  },
  {
   "cell_type": "code",
   "execution_count": null,
   "metadata": {
    "id": "KGmxQ633wG1I"
   },
   "outputs": [],
   "source": [
    "# Creating model object\n",
    "model_nv = GaussianNB()"
   ]
  },
  {
   "cell_type": "code",
   "execution_count": null,
   "metadata": {
    "id": "rElcq4YTwG32"
   },
   "outputs": [],
   "source": [
    "# Training Model\n",
    "model_nv.fit(x_train, y_train.ravel())"
   ]
  },
  {
   "cell_type": "code",
   "execution_count": null,
   "metadata": {
    "id": "8Ir606FEwG6u"
   },
   "outputs": [],
   "source": [
    "# Making Prediction\n",
    "pred_nv = model_nv.predict(x_test)"
   ]
  },
  {
   "cell_type": "code",
   "execution_count": null,
   "metadata": {
    "id": "2Yx3XaICwHDQ"
   },
   "outputs": [],
   "source": [
    "# Calculating Accuracy Score\n",
    "nv = accuracy_score(y_test, pred_nv)\n",
    "print(nv)"
   ]
  },
  {
   "cell_type": "code",
   "execution_count": null,
   "metadata": {
    "id": "aVCI1DYsw_WC"
   },
   "outputs": [],
   "source": [
    "print(classification_report(y_test,pred_nv))"
   ]
  },
  {
   "cell_type": "code",
   "execution_count": null,
   "metadata": {
    "id": "650LyY-5xXbw"
   },
   "outputs": [],
   "source": [
    "# confusion Maxtrix\n",
    "cm1 = confusion_matrix(y_test, pred_nv)\n",
    "sns.heatmap(cm1/np.sum(cm1), annot = True, fmt=  '0.2%', cmap = 'Reds')"
   ]
  },
  {
   "cell_type": "markdown",
   "metadata": {
    "id": "1o-Tw9680zk_"
   },
   "source": [
    "# KNN Classifier"
   ]
  },
  {
   "cell_type": "code",
   "execution_count": null,
   "metadata": {
    "id": "0sLSDh5yyEh4"
   },
   "outputs": [],
   "source": [
    "from sklearn.neighbors import KNeighborsClassifier"
   ]
  },
  {
   "cell_type": "code",
   "execution_count": null,
   "metadata": {
    "id": "Ext_O2LezoPt"
   },
   "outputs": [],
   "source": [
    "# Creating model object\n",
    "model_kn = KNeighborsClassifier(n_neighbors=9, leaf_size=20)"
   ]
  },
  {
   "cell_type": "code",
   "execution_count": null,
   "metadata": {
    "id": "0n3kSqV1zoSe"
   },
   "outputs": [],
   "source": [
    "# Training Model\n",
    "model_kn.fit(x_train, y_train)"
   ]
  },
  {
   "cell_type": "code",
   "execution_count": null,
   "metadata": {
    "id": "7IX-J0U9zoUx"
   },
   "outputs": [],
   "source": [
    "# Making Prediction\n",
    "pred_kn = model_kn.predict(x_test)"
   ]
  },
  {
   "cell_type": "code",
   "execution_count": null,
   "metadata": {
    "id": "0C_gFtnzzoXS"
   },
   "outputs": [],
   "source": [
    "# Calculating Accuracy Score\n",
    "kn = accuracy_score(y_test, pred_kn)\n",
    "print(kn)"
   ]
  },
  {
   "cell_type": "code",
   "execution_count": null,
   "metadata": {
    "id": "U3AY4jSSzoZT"
   },
   "outputs": [],
   "source": [
    "print(classification_report(y_test,pred_kn))"
   ]
  },
  {
   "cell_type": "code",
   "execution_count": null,
   "metadata": {
    "id": "hGYOfs0pzobp"
   },
   "outputs": [],
   "source": [
    "# confusion Maxtrix\n",
    "cm5 = confusion_matrix(y_test, pred_kn)\n",
    "sns.heatmap(cm5/np.sum(cm5), annot = True, fmt=  '0.2%', cmap = 'Reds')"
   ]
  },
  {
   "cell_type": "code",
   "execution_count": null,
   "metadata": {
    "id": "lHDnJOh3zod0"
   },
   "outputs": [],
   "source": [
    "models = pd.DataFrame({\n",
    "    'Model':['Logistic Regression', 'Naive Bayes', 'KNeighbours'],\n",
    "    'Accuracy_score' :[lg, nv, kn]\n",
    "})\n",
    "models\n",
    "sns.barplot(x='Accuracy_score', y='Model', data=models)\n",
    "\n",
    "models.sort_values(by='Accuracy_score', ascending=False)\n"
   ]
  },
  {
   "cell_type": "code",
   "execution_count": null,
   "metadata": {
    "id": "I9hWI6BbgSf-"
   },
   "outputs": [],
   "source": []
  }
 ],
 "metadata": {
  "colab": {
   "provenance": []
  },
  "kernelspec": {
   "display_name": "Python 3",
   "language": "python",
   "name": "python3"
  },
  "language_info": {
   "codemirror_mode": {
    "name": "ipython",
    "version": 3
   },
   "file_extension": ".py",
   "mimetype": "text/x-python",
   "name": "python",
   "nbconvert_exporter": "python",
   "pygments_lexer": "ipython3",
   "version": "3.8.8"
  }
 },
 "nbformat": 4,
 "nbformat_minor": 1
}
